{
  "nbformat": 4,
  "nbformat_minor": 0,
  "metadata": {
    "colab": {
      "name": "Tugas05-ML-H071191040-MUHAMMAD_ALIF_SETYA_PRAKASA.ipynb",
      "provenance": []
    },
    "kernelspec": {
      "name": "python3",
      "display_name": "Python 3"
    },
    "language_info": {
      "name": "python"
    }
  },
  "cells": [
    {
      "cell_type": "markdown",
      "metadata": {
        "id": "O5qEAh7KJBe-"
      },
      "source": [
        "# Download Data dari UCI"
      ]
    },
    {
      "cell_type": "code",
      "metadata": {
        "colab": {
          "base_uri": "https://localhost:8080/"
        },
        "id": "7witF1NckX8E",
        "outputId": "d6c13c8b-cf83-4e5e-aed2-a4a0d65d2ba1"
      },
      "source": [
        "import os\n",
        "if 'accent-recognition-mfcc--1.zip' not in os.listdir():\n",
        "  !wget https://archive.ics.uci.edu/ml/machine-learning-databases/00518/accent-recognition-mfcc--1.zip\n",
        "\n",
        "!unzip -q /content/accent-recognition-mfcc--1.zip"
      ],
      "execution_count": null,
      "outputs": [
        {
          "output_type": "stream",
          "name": "stdout",
          "text": [
            "replace accent-mfcc-data-1.csv? [y]es, [n]o, [A]ll, [N]one, [r]ename: n\n",
            "replace ES-M-1-1.wav? [y]es, [n]o, [A]ll, [N]one, [r]ename: n\n",
            "replace FR-F-1-9.wav? [y]es, [n]o, [A]ll, [N]one, [r]ename: n\n",
            "replace GE-M-1-12.wav? [y]es, [n]o, [A]ll, [N]one, [r]ename: n\n",
            "replace IT-F-1-1.wav? [y]es, [n]o, [A]ll, [N]one, [r]ename: n\n",
            "replace UK-F-2-11.wav? [y]es, [n]o, [A]ll, [N]one, [r]ename: n\n",
            "replace US-F-2-9.wav? [y]es, [n]o, [A]ll, [N]one, [r]ename: n\n",
            "replace US-F-4-1.wav? [y]es, [n]o, [A]ll, [N]one, [r]ename: n\n",
            "replace US-M-2-3.wav? [y]es, [n]o, [A]ll, [N]one, [r]ename: n\n",
            "replace US-M-2-7.wav? [y]es, [n]o, [A]ll, [N]one, [r]ename: n\n",
            "replace US-M-5-9.wav? [y]es, [n]o, [A]ll, [N]one, [r]ename: n\n"
          ]
        }
      ]
    },
    {
      "cell_type": "code",
      "metadata": {
        "id": "_gi03EqipVsn"
      },
      "source": [
        "import pandas as pd\n",
        "import numpy as np\n",
        "from sklearn import preprocessing\n",
        "import matplotlib.pyplot as plt\n",
        "%matplotlib inline"
      ],
      "execution_count": null,
      "outputs": []
    },
    {
      "cell_type": "markdown",
      "metadata": {
        "id": "WtjOVUwKrxzI"
      },
      "source": [
        "# Support Vector Machine"
      ]
    },
    {
      "cell_type": "markdown",
      "metadata": {
        "id": "i7cBJCIIpfXq"
      },
      "source": [
        "# Attribute Information\n",
        "Response variable:\n",
        "language = {ES, FR, GE, IT, UK, US} The six possible accents considered\n",
        "\n",
        "Explanatory variables:\n",
        "X1, X2, ..., X12 Obtained using MFCC on the original time domain soundtrack of the maximum 1s of reading of a word"
      ]
    },
    {
      "cell_type": "code",
      "metadata": {
        "id": "S9-dvOArpbI1"
      },
      "source": [
        "df_audio = pd.read_csv('/content/accent-mfcc-data-1.csv')"
      ],
      "execution_count": null,
      "outputs": []
    },
    {
      "cell_type": "markdown",
      "metadata": {
        "id": "VoSbnHUrpnDc"
      },
      "source": [
        "Yang akan digunakan hanya 2 aksen : **UK** dan **US**"
      ]
    },
    {
      "cell_type": "code",
      "metadata": {
        "colab": {
          "base_uri": "https://localhost:8080/",
          "height": 204
        },
        "id": "3zxd5UVApkgL",
        "outputId": "e44fa187-6854-45d0-ec1b-21817734cfa1"
      },
      "source": [
        "df_audio = df_audio[(df_audio['language'] == 'UK') | (df_audio['language'] == 'US')]\n",
        "# df_audio.reset_index(inplace=True)\n",
        "# df_audio.drop(['index', 'level_0'], axis=1, inplace=True)n\n",
        "df_audio.head()"
      ],
      "execution_count": null,
      "outputs": [
        {
          "output_type": "execute_result",
          "data": {
            "text/html": [
              "<div>\n",
              "<style scoped>\n",
              "    .dataframe tbody tr th:only-of-type {\n",
              "        vertical-align: middle;\n",
              "    }\n",
              "\n",
              "    .dataframe tbody tr th {\n",
              "        vertical-align: top;\n",
              "    }\n",
              "\n",
              "    .dataframe thead th {\n",
              "        text-align: right;\n",
              "    }\n",
              "</style>\n",
              "<table border=\"1\" class=\"dataframe\">\n",
              "  <thead>\n",
              "    <tr style=\"text-align: right;\">\n",
              "      <th></th>\n",
              "      <th>language</th>\n",
              "      <th>X1</th>\n",
              "      <th>X2</th>\n",
              "      <th>X3</th>\n",
              "      <th>X4</th>\n",
              "      <th>X5</th>\n",
              "      <th>X6</th>\n",
              "      <th>X7</th>\n",
              "      <th>X8</th>\n",
              "      <th>X9</th>\n",
              "      <th>X10</th>\n",
              "      <th>X11</th>\n",
              "      <th>X12</th>\n",
              "    </tr>\n",
              "  </thead>\n",
              "  <tbody>\n",
              "    <tr>\n",
              "      <th>119</th>\n",
              "      <td>UK</td>\n",
              "      <td>1.540149</td>\n",
              "      <td>-7.160007</td>\n",
              "      <td>3.778773</td>\n",
              "      <td>6.718810</td>\n",
              "      <td>-9.347320</td>\n",
              "      <td>8.090564</td>\n",
              "      <td>-11.775473</td>\n",
              "      <td>3.118172</td>\n",
              "      <td>-0.357330</td>\n",
              "      <td>-4.251421</td>\n",
              "      <td>-0.937370</td>\n",
              "      <td>-5.712351</td>\n",
              "    </tr>\n",
              "    <tr>\n",
              "      <th>120</th>\n",
              "      <td>UK</td>\n",
              "      <td>3.976945</td>\n",
              "      <td>-3.000409</td>\n",
              "      <td>0.032001</td>\n",
              "      <td>9.452657</td>\n",
              "      <td>-8.132359</td>\n",
              "      <td>10.151162</td>\n",
              "      <td>-9.986733</td>\n",
              "      <td>1.355630</td>\n",
              "      <td>-0.373630</td>\n",
              "      <td>-3.752769</td>\n",
              "      <td>1.376127</td>\n",
              "      <td>-4.728709</td>\n",
              "    </tr>\n",
              "    <tr>\n",
              "      <th>121</th>\n",
              "      <td>UK</td>\n",
              "      <td>2.914937</td>\n",
              "      <td>-4.191264</td>\n",
              "      <td>3.497829</td>\n",
              "      <td>10.374831</td>\n",
              "      <td>-6.313394</td>\n",
              "      <td>10.032890</td>\n",
              "      <td>-10.618604</td>\n",
              "      <td>4.823223</td>\n",
              "      <td>1.174930</td>\n",
              "      <td>-3.979059</td>\n",
              "      <td>1.876738</td>\n",
              "      <td>-4.466675</td>\n",
              "    </tr>\n",
              "    <tr>\n",
              "      <th>122</th>\n",
              "      <td>UK</td>\n",
              "      <td>4.915523</td>\n",
              "      <td>-1.235624</td>\n",
              "      <td>0.599622</td>\n",
              "      <td>7.392184</td>\n",
              "      <td>-6.940796</td>\n",
              "      <td>12.207071</td>\n",
              "      <td>-9.472306</td>\n",
              "      <td>4.591876</td>\n",
              "      <td>1.369664</td>\n",
              "      <td>-4.563814</td>\n",
              "      <td>2.402545</td>\n",
              "      <td>-4.857425</td>\n",
              "    </tr>\n",
              "    <tr>\n",
              "      <th>123</th>\n",
              "      <td>UK</td>\n",
              "      <td>6.360545</td>\n",
              "      <td>-0.077513</td>\n",
              "      <td>0.726970</td>\n",
              "      <td>8.233986</td>\n",
              "      <td>-9.050965</td>\n",
              "      <td>11.700435</td>\n",
              "      <td>-7.767177</td>\n",
              "      <td>4.399710</td>\n",
              "      <td>-0.013150</td>\n",
              "      <td>-5.083522</td>\n",
              "      <td>2.555932</td>\n",
              "      <td>-6.796220</td>\n",
              "    </tr>\n",
              "  </tbody>\n",
              "</table>\n",
              "</div>"
            ],
            "text/plain": [
              "    language        X1        X2  ...       X10       X11       X12\n",
              "119       UK  1.540149 -7.160007  ... -4.251421 -0.937370 -5.712351\n",
              "120       UK  3.976945 -3.000409  ... -3.752769  1.376127 -4.728709\n",
              "121       UK  2.914937 -4.191264  ... -3.979059  1.876738 -4.466675\n",
              "122       UK  4.915523 -1.235624  ... -4.563814  2.402545 -4.857425\n",
              "123       UK  6.360545 -0.077513  ... -5.083522  2.555932 -6.796220\n",
              "\n",
              "[5 rows x 13 columns]"
            ]
          },
          "metadata": {},
          "execution_count": 9
        }
      ]
    },
    {
      "cell_type": "markdown",
      "metadata": {
        "id": "goT2wwQ0JLJ_"
      },
      "source": [
        "Data masih _imbalance_ sehingga akan dilakukan resampling"
      ]
    },
    {
      "cell_type": "code",
      "metadata": {
        "colab": {
          "base_uri": "https://localhost:8080/"
        },
        "id": "X6FiJ5Jtpyo3",
        "outputId": "da3551b8-1517-47d5-f614-48b0b81f4400"
      },
      "source": [
        "df_audio['language'].value_counts()"
      ],
      "execution_count": null,
      "outputs": [
        {
          "output_type": "execute_result",
          "data": {
            "text/plain": [
              "US    165\n",
              "UK     45\n",
              "Name: language, dtype: int64"
            ]
          },
          "metadata": {},
          "execution_count": 10
        }
      ]
    },
    {
      "cell_type": "code",
      "metadata": {
        "colab": {
          "base_uri": "https://localhost:8080/",
          "height": 302
        },
        "id": "XZpxXo9BqE3q",
        "outputId": "8d96a96b-cec0-465e-a8ce-e7c41eace3a1"
      },
      "source": [
        "language_count = df_audio.language.value_counts()\n",
        "language_count\n",
        "language_count.plot(kind='bar', title='Count (language)')"
      ],
      "execution_count": null,
      "outputs": [
        {
          "output_type": "execute_result",
          "data": {
            "text/plain": [
              "<matplotlib.axes._subplots.AxesSubplot at 0x7f90aba5dad0>"
            ]
          },
          "metadata": {},
          "execution_count": 11
        },
        {
          "output_type": "display_data",
          "data": {
            "image/png": "[encoded data removed]",
            "text/plain": [
              "<Figure size 432x288 with 1 Axes>"
            ]
          },
          "metadata": {
            "needs_background": "light"
          }
        }
      ]
    },
    {
      "cell_type": "code",
      "metadata": {
        "colab": {
          "base_uri": "https://localhost:8080/"
        },
        "id": "mw3Ozjq2qNk8",
        "outputId": "a6abf369-3947-4951-ed79-fb2df80e2612"
      },
      "source": [
        "df_audio.isnull().sum()"
      ],
      "execution_count": null,
      "outputs": [
        {
          "output_type": "execute_result",
          "data": {
            "text/plain": [
              "language    0\n",
              "X1          0\n",
              "X2          0\n",
              "X3          0\n",
              "X4          0\n",
              "X5          0\n",
              "X6          0\n",
              "X7          0\n",
              "X8          0\n",
              "X9          0\n",
              "X10         0\n",
              "X11         0\n",
              "X12         0\n",
              "dtype: int64"
            ]
          },
          "metadata": {},
          "execution_count": 12
        }
      ]
    },
    {
      "cell_type": "code",
      "metadata": {
        "colab": {
          "base_uri": "https://localhost:8080/",
          "height": 419
        },
        "id": "IbQPmPg6qUuW",
        "outputId": "9bce9260-91d5-4e29-e49f-0404597c78a5"
      },
      "source": [
        "language_encoded = {'language' : {'UK' : 0, 'US' : 1}}\n",
        "# df_audio.replace(language_encoded, inplace=True)\n",
        "df_audio"
      ],
      "execution_count": null,
      "outputs": [
        {
          "output_type": "execute_result",
          "data": {
            "text/html": [
              "<div>\n",
              "<style scoped>\n",
              "    .dataframe tbody tr th:only-of-type {\n",
              "        vertical-align: middle;\n",
              "    }\n",
              "\n",
              "    .dataframe tbody tr th {\n",
              "        vertical-align: top;\n",
              "    }\n",
              "\n",
              "    .dataframe thead th {\n",
              "        text-align: right;\n",
              "    }\n",
              "</style>\n",
              "<table border=\"1\" class=\"dataframe\">\n",
              "  <thead>\n",
              "    <tr style=\"text-align: right;\">\n",
              "      <th></th>\n",
              "      <th>language</th>\n",
              "      <th>X1</th>\n",
              "      <th>X2</th>\n",
              "      <th>X3</th>\n",
              "      <th>X4</th>\n",
              "      <th>X5</th>\n",
              "      <th>X6</th>\n",
              "      <th>X7</th>\n",
              "      <th>X8</th>\n",
              "      <th>X9</th>\n",
              "      <th>X10</th>\n",
              "      <th>X11</th>\n",
              "      <th>X12</th>\n",
              "    </tr>\n",
              "  </thead>\n",
              "  <tbody>\n",
              "    <tr>\n",
              "      <th>119</th>\n",
              "      <td>UK</td>\n",
              "      <td>1.540149</td>\n",
              "      <td>-7.160007</td>\n",
              "      <td>3.778773</td>\n",
              "      <td>6.718810</td>\n",
              "      <td>-9.347320</td>\n",
              "      <td>8.090564</td>\n",
              "      <td>-11.775473</td>\n",
              "      <td>3.118172</td>\n",
              "      <td>-0.357330</td>\n",
              "      <td>-4.251421</td>\n",
              "      <td>-0.937370</td>\n",
              "      <td>-5.712351</td>\n",
              "    </tr>\n",
              "    <tr>\n",
              "      <th>120</th>\n",
              "      <td>UK</td>\n",
              "      <td>3.976945</td>\n",
              "      <td>-3.000409</td>\n",
              "      <td>0.032001</td>\n",
              "      <td>9.452657</td>\n",
              "      <td>-8.132359</td>\n",
              "      <td>10.151162</td>\n",
              "      <td>-9.986733</td>\n",
              "      <td>1.355630</td>\n",
              "      <td>-0.373630</td>\n",
              "      <td>-3.752769</td>\n",
              "      <td>1.376127</td>\n",
              "      <td>-4.728709</td>\n",
              "    </tr>\n",
              "    <tr>\n",
              "      <th>121</th>\n",
              "      <td>UK</td>\n",
              "      <td>2.914937</td>\n",
              "      <td>-4.191264</td>\n",
              "      <td>3.497829</td>\n",
              "      <td>10.374831</td>\n",
              "      <td>-6.313394</td>\n",
              "      <td>10.032890</td>\n",
              "      <td>-10.618604</td>\n",
              "      <td>4.823223</td>\n",
              "      <td>1.174930</td>\n",
              "      <td>-3.979059</td>\n",
              "      <td>1.876738</td>\n",
              "      <td>-4.466675</td>\n",
              "    </tr>\n",
              "    <tr>\n",
              "      <th>122</th>\n",
              "      <td>UK</td>\n",
              "      <td>4.915523</td>\n",
              "      <td>-1.235624</td>\n",
              "      <td>0.599622</td>\n",
              "      <td>7.392184</td>\n",
              "      <td>-6.940796</td>\n",
              "      <td>12.207071</td>\n",
              "      <td>-9.472306</td>\n",
              "      <td>4.591876</td>\n",
              "      <td>1.369664</td>\n",
              "      <td>-4.563814</td>\n",
              "      <td>2.402545</td>\n",
              "      <td>-4.857425</td>\n",
              "    </tr>\n",
              "    <tr>\n",
              "      <th>123</th>\n",
              "      <td>UK</td>\n",
              "      <td>6.360545</td>\n",
              "      <td>-0.077513</td>\n",
              "      <td>0.726970</td>\n",
              "      <td>8.233986</td>\n",
              "      <td>-9.050965</td>\n",
              "      <td>11.700435</td>\n",
              "      <td>-7.767177</td>\n",
              "      <td>4.399710</td>\n",
              "      <td>-0.013150</td>\n",
              "      <td>-5.083522</td>\n",
              "      <td>2.555932</td>\n",
              "      <td>-6.796220</td>\n",
              "    </tr>\n",
              "    <tr>\n",
              "      <th>...</th>\n",
              "      <td>...</td>\n",
              "      <td>...</td>\n",
              "      <td>...</td>\n",
              "      <td>...</td>\n",
              "      <td>...</td>\n",
              "      <td>...</td>\n",
              "      <td>...</td>\n",
              "      <td>...</td>\n",
              "      <td>...</td>\n",
              "      <td>...</td>\n",
              "      <td>...</td>\n",
              "      <td>...</td>\n",
              "      <td>...</td>\n",
              "    </tr>\n",
              "    <tr>\n",
              "      <th>324</th>\n",
              "      <td>US</td>\n",
              "      <td>-0.525273</td>\n",
              "      <td>-3.868338</td>\n",
              "      <td>3.548304</td>\n",
              "      <td>1.496249</td>\n",
              "      <td>3.490753</td>\n",
              "      <td>5.849887</td>\n",
              "      <td>-7.747027</td>\n",
              "      <td>9.738836</td>\n",
              "      <td>-11.754543</td>\n",
              "      <td>7.129909</td>\n",
              "      <td>0.209947</td>\n",
              "      <td>-1.946914</td>\n",
              "    </tr>\n",
              "    <tr>\n",
              "      <th>325</th>\n",
              "      <td>US</td>\n",
              "      <td>-2.094001</td>\n",
              "      <td>-1.073113</td>\n",
              "      <td>1.217397</td>\n",
              "      <td>-0.550790</td>\n",
              "      <td>2.666547</td>\n",
              "      <td>7.449942</td>\n",
              "      <td>-6.418064</td>\n",
              "      <td>10.907098</td>\n",
              "      <td>-11.134323</td>\n",
              "      <td>6.728373</td>\n",
              "      <td>2.461446</td>\n",
              "      <td>-0.026113</td>\n",
              "    </tr>\n",
              "    <tr>\n",
              "      <th>326</th>\n",
              "      <td>US</td>\n",
              "      <td>2.116909</td>\n",
              "      <td>-4.441482</td>\n",
              "      <td>5.350392</td>\n",
              "      <td>3.675396</td>\n",
              "      <td>2.715876</td>\n",
              "      <td>3.682670</td>\n",
              "      <td>-4.500850</td>\n",
              "      <td>11.798565</td>\n",
              "      <td>-12.031005</td>\n",
              "      <td>7.566142</td>\n",
              "      <td>-0.606010</td>\n",
              "      <td>-2.245129</td>\n",
              "    </tr>\n",
              "    <tr>\n",
              "      <th>327</th>\n",
              "      <td>US</td>\n",
              "      <td>0.299616</td>\n",
              "      <td>0.324844</td>\n",
              "      <td>3.299919</td>\n",
              "      <td>2.044040</td>\n",
              "      <td>3.634828</td>\n",
              "      <td>6.693840</td>\n",
              "      <td>-5.676224</td>\n",
              "      <td>12.000518</td>\n",
              "      <td>-11.912901</td>\n",
              "      <td>4.664406</td>\n",
              "      <td>1.197789</td>\n",
              "      <td>-2.230275</td>\n",
              "    </tr>\n",
              "    <tr>\n",
              "      <th>328</th>\n",
              "      <td>US</td>\n",
              "      <td>3.214254</td>\n",
              "      <td>-3.135152</td>\n",
              "      <td>1.122691</td>\n",
              "      <td>4.712444</td>\n",
              "      <td>5.926518</td>\n",
              "      <td>6.915566</td>\n",
              "      <td>-5.799727</td>\n",
              "      <td>10.858532</td>\n",
              "      <td>-11.659845</td>\n",
              "      <td>10.605734</td>\n",
              "      <td>0.349482</td>\n",
              "      <td>-5.983281</td>\n",
              "    </tr>\n",
              "  </tbody>\n",
              "</table>\n",
              "<p>210 rows × 13 columns</p>\n",
              "</div>"
            ],
            "text/plain": [
              "    language        X1        X2  ...        X10       X11       X12\n",
              "119       UK  1.540149 -7.160007  ...  -4.251421 -0.937370 -5.712351\n",
              "120       UK  3.976945 -3.000409  ...  -3.752769  1.376127 -4.728709\n",
              "121       UK  2.914937 -4.191264  ...  -3.979059  1.876738 -4.466675\n",
              "122       UK  4.915523 -1.235624  ...  -4.563814  2.402545 -4.857425\n",
              "123       UK  6.360545 -0.077513  ...  -5.083522  2.555932 -6.796220\n",
              "..       ...       ...       ...  ...        ...       ...       ...\n",
              "324       US -0.525273 -3.868338  ...   7.129909  0.209947 -1.946914\n",
              "325       US -2.094001 -1.073113  ...   6.728373  2.461446 -0.026113\n",
              "326       US  2.116909 -4.441482  ...   7.566142 -0.606010 -2.245129\n",
              "327       US  0.299616  0.324844  ...   4.664406  1.197789 -2.230275\n",
              "328       US  3.214254 -3.135152  ...  10.605734  0.349482 -5.983281\n",
              "\n",
              "[210 rows x 13 columns]"
            ]
          },
          "metadata": {},
          "execution_count": 13
        }
      ]
    },
    {
      "cell_type": "code",
      "metadata": {
        "colab": {
          "base_uri": "https://localhost:8080/",
          "height": 419
        },
        "id": "w1grQOvQqYXO",
        "outputId": "5c13d4c6-f7f3-4195-ab8e-6f6bb5e16f13"
      },
      "source": [
        "Q1 = df_audio.quantile(0.25)\n",
        "Q3 = df_audio.quantile(0.75)\n",
        "IQR = Q3 - Q1\n",
        "\n",
        "lower_bound = Q1 - (1.5 * IQR)\n",
        "upper_bound = Q3 + (1.5 * IQR)\n",
        "\n",
        "df_audio[~((df_audio < lower_bound) | (df_audio > upper_bound).any(axis=1))]\n",
        "df_audio"
      ],
      "execution_count": null,
      "outputs": [
        {
          "output_type": "execute_result",
          "data": {
            "text/html": [
              "<div>\n",
              "<style scoped>\n",
              "    .dataframe tbody tr th:only-of-type {\n",
              "        vertical-align: middle;\n",
              "    }\n",
              "\n",
              "    .dataframe tbody tr th {\n",
              "        vertical-align: top;\n",
              "    }\n",
              "\n",
              "    .dataframe thead th {\n",
              "        text-align: right;\n",
              "    }\n",
              "</style>\n",
              "<table border=\"1\" class=\"dataframe\">\n",
              "  <thead>\n",
              "    <tr style=\"text-align: right;\">\n",
              "      <th></th>\n",
              "      <th>language</th>\n",
              "      <th>X1</th>\n",
              "      <th>X2</th>\n",
              "      <th>X3</th>\n",
              "      <th>X4</th>\n",
              "      <th>X5</th>\n",
              "      <th>X6</th>\n",
              "      <th>X7</th>\n",
              "      <th>X8</th>\n",
              "      <th>X9</th>\n",
              "      <th>X10</th>\n",
              "      <th>X11</th>\n",
              "      <th>X12</th>\n",
              "    </tr>\n",
              "  </thead>\n",
              "  <tbody>\n",
              "    <tr>\n",
              "      <th>119</th>\n",
              "      <td>UK</td>\n",
              "      <td>1.540149</td>\n",
              "      <td>-7.160007</td>\n",
              "      <td>3.778773</td>\n",
              "      <td>6.718810</td>\n",
              "      <td>-9.347320</td>\n",
              "      <td>8.090564</td>\n",
              "      <td>-11.775473</td>\n",
              "      <td>3.118172</td>\n",
              "      <td>-0.357330</td>\n",
              "      <td>-4.251421</td>\n",
              "      <td>-0.937370</td>\n",
              "      <td>-5.712351</td>\n",
              "    </tr>\n",
              "    <tr>\n",
              "      <th>120</th>\n",
              "      <td>UK</td>\n",
              "      <td>3.976945</td>\n",
              "      <td>-3.000409</td>\n",
              "      <td>0.032001</td>\n",
              "      <td>9.452657</td>\n",
              "      <td>-8.132359</td>\n",
              "      <td>10.151162</td>\n",
              "      <td>-9.986733</td>\n",
              "      <td>1.355630</td>\n",
              "      <td>-0.373630</td>\n",
              "      <td>-3.752769</td>\n",
              "      <td>1.376127</td>\n",
              "      <td>-4.728709</td>\n",
              "    </tr>\n",
              "    <tr>\n",
              "      <th>121</th>\n",
              "      <td>UK</td>\n",
              "      <td>2.914937</td>\n",
              "      <td>-4.191264</td>\n",
              "      <td>3.497829</td>\n",
              "      <td>10.374831</td>\n",
              "      <td>-6.313394</td>\n",
              "      <td>10.032890</td>\n",
              "      <td>-10.618604</td>\n",
              "      <td>4.823223</td>\n",
              "      <td>1.174930</td>\n",
              "      <td>-3.979059</td>\n",
              "      <td>1.876738</td>\n",
              "      <td>-4.466675</td>\n",
              "    </tr>\n",
              "    <tr>\n",
              "      <th>122</th>\n",
              "      <td>UK</td>\n",
              "      <td>4.915523</td>\n",
              "      <td>-1.235624</td>\n",
              "      <td>0.599622</td>\n",
              "      <td>7.392184</td>\n",
              "      <td>-6.940796</td>\n",
              "      <td>12.207071</td>\n",
              "      <td>-9.472306</td>\n",
              "      <td>4.591876</td>\n",
              "      <td>1.369664</td>\n",
              "      <td>-4.563814</td>\n",
              "      <td>2.402545</td>\n",
              "      <td>-4.857425</td>\n",
              "    </tr>\n",
              "    <tr>\n",
              "      <th>123</th>\n",
              "      <td>UK</td>\n",
              "      <td>6.360545</td>\n",
              "      <td>-0.077513</td>\n",
              "      <td>0.726970</td>\n",
              "      <td>8.233986</td>\n",
              "      <td>-9.050965</td>\n",
              "      <td>11.700435</td>\n",
              "      <td>-7.767177</td>\n",
              "      <td>4.399710</td>\n",
              "      <td>-0.013150</td>\n",
              "      <td>-5.083522</td>\n",
              "      <td>2.555932</td>\n",
              "      <td>-6.796220</td>\n",
              "    </tr>\n",
              "    <tr>\n",
              "      <th>...</th>\n",
              "      <td>...</td>\n",
              "      <td>...</td>\n",
              "      <td>...</td>\n",
              "      <td>...</td>\n",
              "      <td>...</td>\n",
              "      <td>...</td>\n",
              "      <td>...</td>\n",
              "      <td>...</td>\n",
              "      <td>...</td>\n",
              "      <td>...</td>\n",
              "      <td>...</td>\n",
              "      <td>...</td>\n",
              "      <td>...</td>\n",
              "    </tr>\n",
              "    <tr>\n",
              "      <th>324</th>\n",
              "      <td>US</td>\n",
              "      <td>-0.525273</td>\n",
              "      <td>-3.868338</td>\n",
              "      <td>3.548304</td>\n",
              "      <td>1.496249</td>\n",
              "      <td>3.490753</td>\n",
              "      <td>5.849887</td>\n",
              "      <td>-7.747027</td>\n",
              "      <td>9.738836</td>\n",
              "      <td>-11.754543</td>\n",
              "      <td>7.129909</td>\n",
              "      <td>0.209947</td>\n",
              "      <td>-1.946914</td>\n",
              "    </tr>\n",
              "    <tr>\n",
              "      <th>325</th>\n",
              "      <td>US</td>\n",
              "      <td>-2.094001</td>\n",
              "      <td>-1.073113</td>\n",
              "      <td>1.217397</td>\n",
              "      <td>-0.550790</td>\n",
              "      <td>2.666547</td>\n",
              "      <td>7.449942</td>\n",
              "      <td>-6.418064</td>\n",
              "      <td>10.907098</td>\n",
              "      <td>-11.134323</td>\n",
              "      <td>6.728373</td>\n",
              "      <td>2.461446</td>\n",
              "      <td>-0.026113</td>\n",
              "    </tr>\n",
              "    <tr>\n",
              "      <th>326</th>\n",
              "      <td>US</td>\n",
              "      <td>2.116909</td>\n",
              "      <td>-4.441482</td>\n",
              "      <td>5.350392</td>\n",
              "      <td>3.675396</td>\n",
              "      <td>2.715876</td>\n",
              "      <td>3.682670</td>\n",
              "      <td>-4.500850</td>\n",
              "      <td>11.798565</td>\n",
              "      <td>-12.031005</td>\n",
              "      <td>7.566142</td>\n",
              "      <td>-0.606010</td>\n",
              "      <td>-2.245129</td>\n",
              "    </tr>\n",
              "    <tr>\n",
              "      <th>327</th>\n",
              "      <td>US</td>\n",
              "      <td>0.299616</td>\n",
              "      <td>0.324844</td>\n",
              "      <td>3.299919</td>\n",
              "      <td>2.044040</td>\n",
              "      <td>3.634828</td>\n",
              "      <td>6.693840</td>\n",
              "      <td>-5.676224</td>\n",
              "      <td>12.000518</td>\n",
              "      <td>-11.912901</td>\n",
              "      <td>4.664406</td>\n",
              "      <td>1.197789</td>\n",
              "      <td>-2.230275</td>\n",
              "    </tr>\n",
              "    <tr>\n",
              "      <th>328</th>\n",
              "      <td>US</td>\n",
              "      <td>3.214254</td>\n",
              "      <td>-3.135152</td>\n",
              "      <td>1.122691</td>\n",
              "      <td>4.712444</td>\n",
              "      <td>5.926518</td>\n",
              "      <td>6.915566</td>\n",
              "      <td>-5.799727</td>\n",
              "      <td>10.858532</td>\n",
              "      <td>-11.659845</td>\n",
              "      <td>10.605734</td>\n",
              "      <td>0.349482</td>\n",
              "      <td>-5.983281</td>\n",
              "    </tr>\n",
              "  </tbody>\n",
              "</table>\n",
              "<p>210 rows × 13 columns</p>\n",
              "</div>"
            ],
            "text/plain": [
              "    language        X1        X2  ...        X10       X11       X12\n",
              "119       UK  1.540149 -7.160007  ...  -4.251421 -0.937370 -5.712351\n",
              "120       UK  3.976945 -3.000409  ...  -3.752769  1.376127 -4.728709\n",
              "121       UK  2.914937 -4.191264  ...  -3.979059  1.876738 -4.466675\n",
              "122       UK  4.915523 -1.235624  ...  -4.563814  2.402545 -4.857425\n",
              "123       UK  6.360545 -0.077513  ...  -5.083522  2.555932 -6.796220\n",
              "..       ...       ...       ...  ...        ...       ...       ...\n",
              "324       US -0.525273 -3.868338  ...   7.129909  0.209947 -1.946914\n",
              "325       US -2.094001 -1.073113  ...   6.728373  2.461446 -0.026113\n",
              "326       US  2.116909 -4.441482  ...   7.566142 -0.606010 -2.245129\n",
              "327       US  0.299616  0.324844  ...   4.664406  1.197789 -2.230275\n",
              "328       US  3.214254 -3.135152  ...  10.605734  0.349482 -5.983281\n",
              "\n",
              "[210 rows x 13 columns]"
            ]
          },
          "metadata": {},
          "execution_count": 14
        }
      ]
    },
    {
      "cell_type": "code",
      "metadata": {
        "colab": {
          "base_uri": "https://localhost:8080/",
          "height": 419
        },
        "id": "xs2mTS7qqj6H",
        "outputId": "03c79eeb-175f-4829-fe35-71b88948700f"
      },
      "source": [
        "from sklearn.preprocessing import StandardScaler\n",
        "\n",
        "X = df_audio.loc[:, 'X1':]\n",
        "Y = df_audio.loc[:, 'language']\n",
        "std_scaler = StandardScaler()\n",
        "df_audio_std = pd.DataFrame(std_scaler.fit_transform(X), columns=X.columns)\n",
        "df_audio_std"
      ],
      "execution_count": null,
      "outputs": [
        {
          "output_type": "execute_result",
          "data": {
            "text/html": [
              "<div>\n",
              "<style scoped>\n",
              "    .dataframe tbody tr th:only-of-type {\n",
              "        vertical-align: middle;\n",
              "    }\n",
              "\n",
              "    .dataframe tbody tr th {\n",
              "        vertical-align: top;\n",
              "    }\n",
              "\n",
              "    .dataframe thead th {\n",
              "        text-align: right;\n",
              "    }\n",
              "</style>\n",
              "<table border=\"1\" class=\"dataframe\">\n",
              "  <thead>\n",
              "    <tr style=\"text-align: right;\">\n",
              "      <th></th>\n",
              "      <th>X1</th>\n",
              "      <th>X2</th>\n",
              "      <th>X3</th>\n",
              "      <th>X4</th>\n",
              "      <th>X5</th>\n",
              "      <th>X6</th>\n",
              "      <th>X7</th>\n",
              "      <th>X8</th>\n",
              "      <th>X9</th>\n",
              "      <th>X10</th>\n",
              "      <th>X11</th>\n",
              "      <th>X12</th>\n",
              "    </tr>\n",
              "  </thead>\n",
              "  <tbody>\n",
              "    <tr>\n",
              "      <th>0</th>\n",
              "      <td>-0.821704</td>\n",
              "      <td>-0.718071</td>\n",
              "      <td>0.233143</td>\n",
              "      <td>-0.046644</td>\n",
              "      <td>-0.887799</td>\n",
              "      <td>-0.250785</td>\n",
              "      <td>-1.143804</td>\n",
              "      <td>-0.619423</td>\n",
              "      <td>0.322373</td>\n",
              "      <td>-0.514077</td>\n",
              "      <td>-0.710276</td>\n",
              "      <td>-0.612306</td>\n",
              "    </tr>\n",
              "    <tr>\n",
              "      <th>1</th>\n",
              "      <td>-0.352127</td>\n",
              "      <td>0.498349</td>\n",
              "      <td>-0.744194</td>\n",
              "      <td>0.536540</td>\n",
              "      <td>-0.656365</td>\n",
              "      <td>0.246986</td>\n",
              "      <td>-0.430741</td>\n",
              "      <td>-1.210901</td>\n",
              "      <td>0.318587</td>\n",
              "      <td>-0.426213</td>\n",
              "      <td>-0.125139</td>\n",
              "      <td>-0.314518</td>\n",
              "    </tr>\n",
              "    <tr>\n",
              "      <th>2</th>\n",
              "      <td>-0.556779</td>\n",
              "      <td>0.150099</td>\n",
              "      <td>0.159860</td>\n",
              "      <td>0.733258</td>\n",
              "      <td>-0.309876</td>\n",
              "      <td>0.218415</td>\n",
              "      <td>-0.682630</td>\n",
              "      <td>-0.047237</td>\n",
              "      <td>0.678231</td>\n",
              "      <td>-0.466086</td>\n",
              "      <td>0.001477</td>\n",
              "      <td>-0.235190</td>\n",
              "    </tr>\n",
              "    <tr>\n",
              "      <th>3</th>\n",
              "      <td>-0.171261</td>\n",
              "      <td>1.014438</td>\n",
              "      <td>-0.596131</td>\n",
              "      <td>0.097000</td>\n",
              "      <td>-0.429388</td>\n",
              "      <td>0.743625</td>\n",
              "      <td>-0.225670</td>\n",
              "      <td>-0.124873</td>\n",
              "      <td>0.723457</td>\n",
              "      <td>-0.569122</td>\n",
              "      <td>0.134465</td>\n",
              "      <td>-0.353486</td>\n",
              "    </tr>\n",
              "    <tr>\n",
              "      <th>4</th>\n",
              "      <td>0.107199</td>\n",
              "      <td>1.353112</td>\n",
              "      <td>-0.562913</td>\n",
              "      <td>0.276573</td>\n",
              "      <td>-0.831347</td>\n",
              "      <td>0.621238</td>\n",
              "      <td>0.454062</td>\n",
              "      <td>-0.189361</td>\n",
              "      <td>0.402306</td>\n",
              "      <td>-0.660697</td>\n",
              "      <td>0.173261</td>\n",
              "      <td>-0.940435</td>\n",
              "    </tr>\n",
              "    <tr>\n",
              "      <th>...</th>\n",
              "      <td>...</td>\n",
              "      <td>...</td>\n",
              "      <td>...</td>\n",
              "      <td>...</td>\n",
              "      <td>...</td>\n",
              "      <td>...</td>\n",
              "      <td>...</td>\n",
              "      <td>...</td>\n",
              "      <td>...</td>\n",
              "      <td>...</td>\n",
              "      <td>...</td>\n",
              "      <td>...</td>\n",
              "    </tr>\n",
              "    <tr>\n",
              "      <th>205</th>\n",
              "      <td>-1.219716</td>\n",
              "      <td>0.244535</td>\n",
              "      <td>0.173026</td>\n",
              "      <td>-1.160718</td>\n",
              "      <td>1.557683</td>\n",
              "      <td>-0.792058</td>\n",
              "      <td>0.462095</td>\n",
              "      <td>1.602357</td>\n",
              "      <td>-2.324567</td>\n",
              "      <td>1.491363</td>\n",
              "      <td>-0.420093</td>\n",
              "      <td>0.527641</td>\n",
              "    </tr>\n",
              "    <tr>\n",
              "      <th>206</th>\n",
              "      <td>-1.522014</td>\n",
              "      <td>1.061962</td>\n",
              "      <td>-0.434986</td>\n",
              "      <td>-1.597392</td>\n",
              "      <td>1.400683</td>\n",
              "      <td>-0.405538</td>\n",
              "      <td>0.991872</td>\n",
              "      <td>1.994405</td>\n",
              "      <td>-2.180524</td>\n",
              "      <td>1.420611</td>\n",
              "      <td>0.149363</td>\n",
              "      <td>1.109143</td>\n",
              "    </tr>\n",
              "    <tr>\n",
              "      <th>207</th>\n",
              "      <td>-0.710561</td>\n",
              "      <td>0.076926</td>\n",
              "      <td>0.643097</td>\n",
              "      <td>-0.695864</td>\n",
              "      <td>1.410080</td>\n",
              "      <td>-1.315585</td>\n",
              "      <td>1.756150</td>\n",
              "      <td>2.293566</td>\n",
              "      <td>-2.388774</td>\n",
              "      <td>1.568229</td>\n",
              "      <td>-0.626468</td>\n",
              "      <td>0.437359</td>\n",
              "    </tr>\n",
              "    <tr>\n",
              "      <th>208</th>\n",
              "      <td>-1.060758</td>\n",
              "      <td>1.470777</td>\n",
              "      <td>0.108235</td>\n",
              "      <td>-1.043864</td>\n",
              "      <td>1.585128</td>\n",
              "      <td>-0.588187</td>\n",
              "      <td>1.287599</td>\n",
              "      <td>2.361338</td>\n",
              "      <td>-2.361345</td>\n",
              "      <td>1.056931</td>\n",
              "      <td>-0.170245</td>\n",
              "      <td>0.441856</td>\n",
              "    </tr>\n",
              "    <tr>\n",
              "      <th>209</th>\n",
              "      <td>-0.499100</td>\n",
              "      <td>0.458945</td>\n",
              "      <td>-0.459690</td>\n",
              "      <td>-0.474641</td>\n",
              "      <td>2.021664</td>\n",
              "      <td>-0.534626</td>\n",
              "      <td>1.238366</td>\n",
              "      <td>1.978107</td>\n",
              "      <td>-2.302574</td>\n",
              "      <td>2.103819</td>\n",
              "      <td>-0.384802</td>\n",
              "      <td>-0.694327</td>\n",
              "    </tr>\n",
              "  </tbody>\n",
              "</table>\n",
              "<p>210 rows × 12 columns</p>\n",
              "</div>"
            ],
            "text/plain": [
              "           X1        X2        X3  ...       X10       X11       X12\n",
              "0   -0.821704 -0.718071  0.233143  ... -0.514077 -0.710276 -0.612306\n",
              "1   -0.352127  0.498349 -0.744194  ... -0.426213 -0.125139 -0.314518\n",
              "2   -0.556779  0.150099  0.159860  ... -0.466086  0.001477 -0.235190\n",
              "3   -0.171261  1.014438 -0.596131  ... -0.569122  0.134465 -0.353486\n",
              "4    0.107199  1.353112 -0.562913  ... -0.660697  0.173261 -0.940435\n",
              "..        ...       ...       ...  ...       ...       ...       ...\n",
              "205 -1.219716  0.244535  0.173026  ...  1.491363 -0.420093  0.527641\n",
              "206 -1.522014  1.061962 -0.434986  ...  1.420611  0.149363  1.109143\n",
              "207 -0.710561  0.076926  0.643097  ...  1.568229 -0.626468  0.437359\n",
              "208 -1.060758  1.470777  0.108235  ...  1.056931 -0.170245  0.441856\n",
              "209 -0.499100  0.458945 -0.459690  ...  2.103819 -0.384802 -0.694327\n",
              "\n",
              "[210 rows x 12 columns]"
            ]
          },
          "metadata": {},
          "execution_count": 15
        }
      ]
    },
    {
      "cell_type": "code",
      "metadata": {
        "id": "noiSoo9AqnK7"
      },
      "source": [
        "from xgboost import XGBClassifier\n",
        "from sklearn.model_selection import train_test_split\n",
        "\n",
        "from sklearn.metrics import accuracy_score"
      ],
      "execution_count": null,
      "outputs": []
    },
    {
      "cell_type": "markdown",
      "metadata": {
        "id": "vj5Dwf7jJZ5h"
      },
      "source": [
        "Hasil evaluasi model menggunakan XGBoost classifier sebelum di resampling"
      ]
    },
    {
      "cell_type": "code",
      "metadata": {
        "colab": {
          "base_uri": "https://localhost:8080/"
        },
        "id": "46n3LjOoq2_a",
        "outputId": "9edb2edd-b1dd-40b3-cc5d-a5bfcd8c4111"
      },
      "source": [
        "X_train, X_test, y_train, y_test = train_test_split(X, Y, test_size=0.2, random_state=1, stratify=Y)\n",
        "\n",
        "model = XGBClassifier()\n",
        "model.fit(X_train, y_train)\n",
        "\n",
        "y_pred = model.predict(X_test)\n",
        "\n",
        "accuracy = accuracy_score(y_test, y_pred)\n",
        "print(\"Accuracy: %.2f%%\" % (accuracy * 100.0))"
      ],
      "execution_count": null,
      "outputs": [
        {
          "output_type": "stream",
          "name": "stdout",
          "text": [
            "Accuracy: 90.48%\n"
          ]
        }
      ]
    },
    {
      "cell_type": "code",
      "metadata": {
        "colab": {
          "base_uri": "https://localhost:8080/"
        },
        "id": "wGKNY8bRq75v",
        "outputId": "326f9e15-4ce2-480b-bc53-762d61670289"
      },
      "source": [
        "from sklearn.datasets import make_classification\n",
        "from imblearn.over_sampling import SMOTE\n",
        "from collections import Counter"
      ],
      "execution_count": null,
      "outputs": [
        {
          "output_type": "stream",
          "name": "stderr",
          "text": [
            "/usr/local/lib/python3.7/dist-packages/sklearn/externals/six.py:31: FutureWarning: The module is deprecated in version 0.21 and will be removed in version 0.23 since we've dropped support for Python 2.7. Please rely on the official version of six (https://pypi.org/project/six/).\n",
            "  \"(https://pypi.org/project/six/).\", FutureWarning)\n",
            "/usr/local/lib/python3.7/dist-packages/sklearn/utils/deprecation.py:144: FutureWarning: The sklearn.neighbors.base module is  deprecated in version 0.22 and will be removed in version 0.24. The corresponding classes / functions should instead be imported from sklearn.neighbors. Anything that cannot be imported from sklearn.neighbors is now part of the private API.\n",
            "  warnings.warn(message, FutureWarning)\n"
          ]
        }
      ]
    },
    {
      "cell_type": "markdown",
      "metadata": {
        "id": "hTActzO5JiG2"
      },
      "source": [
        "Menggunakan metode SMOTE untuk menyeimbangkan kelas pada dataset"
      ]
    },
    {
      "cell_type": "code",
      "metadata": {
        "colab": {
          "base_uri": "https://localhost:8080/"
        },
        "id": "lazngARvrS0N",
        "outputId": "55f1e702-af17-4958-e472-59c10e33e377"
      },
      "source": [
        "smote = SMOTE(sampling_strategy='minority')\n",
        "X_sm, y_sm = smote.fit_resample(X, Y)\n",
        "df_audio_balanced = pd.DataFrame(X_sm, columns=X.columns)\n",
        "df_language_balanced = pd.Series(y_sm)\n",
        "\n",
        "X_train, X_test, y_train, y_test = train_test_split(df_audio_balanced, df_language_balanced, \n",
        "                                                    test_size=0.2, \n",
        "                                                    random_state=1, \n",
        "                                                    stratify=df_language_balanced)"
      ],
      "execution_count": null,
      "outputs": [
        {
          "output_type": "stream",
          "name": "stderr",
          "text": [
            "/usr/local/lib/python3.7/dist-packages/sklearn/utils/deprecation.py:87: FutureWarning: Function safe_indexing is deprecated; safe_indexing is deprecated in version 0.22 and will be removed in version 0.24.\n",
            "  warnings.warn(msg, category=FutureWarning)\n"
          ]
        }
      ]
    },
    {
      "cell_type": "markdown",
      "metadata": {
        "id": "iaoewB3xJn39"
      },
      "source": [
        "SVC adalah kelas yang digunakan pada modul sklearn.svm untuk membangun model menggunakan algoritma _support vector machine_.\n",
        "Akurasi yang didapatkan sekitar 92%."
      ]
    },
    {
      "cell_type": "code",
      "metadata": {
        "colab": {
          "base_uri": "https://localhost:8080/"
        },
        "id": "wDb2vm9UrXde",
        "outputId": "c532588f-de6a-44a0-d638-c21c785a8f5e"
      },
      "source": [
        "from sklearn.svm import SVC\n",
        "from sklearn.metrics import accuracy_score\n",
        "\n",
        "clf = SVC(kernel='linear')\n",
        "clf.fit(X_train,y_train)\n",
        "y_pred = clf.predict(X_test)\n",
        "print(accuracy_score(y_test,\n",
        "                     y_pred))\n"
      ],
      "execution_count": null,
      "outputs": [
        {
          "output_type": "stream",
          "name": "stdout",
          "text": [
            "0.9242424242424242\n"
          ]
        }
      ]
    },
    {
      "cell_type": "markdown",
      "metadata": {
        "id": "m3y9uslP3NwI"
      },
      "source": [
        "# Support Vector Regression"
      ]
    },
    {
      "cell_type": "code",
      "metadata": {
        "colab": {
          "base_uri": "https://localhost:8080/"
        },
        "id": "fhAFe1-AvQdy",
        "outputId": "2e5ff809-3953-4477-a356-7f5f7afba634"
      },
      "source": [
        "!wget https://archive.ics.uci.edu/ml/machine-learning-databases/00291/airfoil_self_noise.dat"
      ],
      "execution_count": null,
      "outputs": [
        {
          "output_type": "stream",
          "name": "stdout",
          "text": [
            "n\n",
            "--2021-09-26 12:53:18--  https://archive.ics.uci.edu/ml/machine-learning-databases/00291/airfoil_self_noise.dat\n",
            "Resolving archive.ics.uci.edu (archive.ics.uci.edu)... 128.195.10.252\n",
            "Connecting to archive.ics.uci.edu (archive.ics.uci.edu)|128.195.10.252|:443... connected.\n",
            "HTTP request sent, awaiting response... 200 OK\n",
            "Length: 59984 (59K) [application/x-httpd-php]\n",
            "Saving to: ‘airfoil_self_noise.dat’\n",
            "\n",
            "\rairfoil_self_noise.   0%[                    ]       0  --.-KB/s               \rairfoil_self_noise. 100%[===================>]  58.58K  --.-KB/s    in 0.02s   \n",
            "\n",
            "2021-09-26 12:53:18 (2.89 MB/s) - ‘airfoil_self_noise.dat’ saved [59984/59984]\n",
            "\n",
            "n\n"
          ]
        }
      ]
    },
    {
      "cell_type": "code",
      "metadata": {
        "id": "JHQZcrJqyicS"
      },
      "source": [
        "df_noise = pd.read_csv('/content/airfoil_self_noise.dat', sep='\\t', header=None)\n",
        "df_noise.columns = [\n",
        "  'Frequency', 'Angle of attack', 'Chord length', 'Free-stream velocity', 'Suction side displacement thickness', ' Scaled sound pressure level'\n",
        "]"
      ],
      "execution_count": null,
      "outputs": []
    },
    {
      "cell_type": "code",
      "metadata": {
        "colab": {
          "base_uri": "https://localhost:8080/",
          "height": 204
        },
        "id": "QpcxxZjHypu4",
        "outputId": "c9682f64-f17e-481a-e71d-70611191920d"
      },
      "source": [
        "df_noise.head()"
      ],
      "execution_count": null,
      "outputs": [
        {
          "output_type": "execute_result",
          "data": {
            "text/html": [
              "<div>\n",
              "<style scoped>\n",
              "    .dataframe tbody tr th:only-of-type {\n",
              "        vertical-align: middle;\n",
              "    }\n",
              "\n",
              "    .dataframe tbody tr th {\n",
              "        vertical-align: top;\n",
              "    }\n",
              "\n",
              "    .dataframe thead th {\n",
              "        text-align: right;\n",
              "    }\n",
              "</style>\n",
              "<table border=\"1\" class=\"dataframe\">\n",
              "  <thead>\n",
              "    <tr style=\"text-align: right;\">\n",
              "      <th></th>\n",
              "      <th>Frequency</th>\n",
              "      <th>Angle of attack</th>\n",
              "      <th>Chord length</th>\n",
              "      <th>Free-stream velocity</th>\n",
              "      <th>Suction side displacement thickness</th>\n",
              "      <th>Scaled sound pressure level</th>\n",
              "    </tr>\n",
              "  </thead>\n",
              "  <tbody>\n",
              "    <tr>\n",
              "      <th>0</th>\n",
              "      <td>800</td>\n",
              "      <td>0.0</td>\n",
              "      <td>0.3048</td>\n",
              "      <td>71.3</td>\n",
              "      <td>0.002663</td>\n",
              "      <td>126.201</td>\n",
              "    </tr>\n",
              "    <tr>\n",
              "      <th>1</th>\n",
              "      <td>1000</td>\n",
              "      <td>0.0</td>\n",
              "      <td>0.3048</td>\n",
              "      <td>71.3</td>\n",
              "      <td>0.002663</td>\n",
              "      <td>125.201</td>\n",
              "    </tr>\n",
              "    <tr>\n",
              "      <th>2</th>\n",
              "      <td>1250</td>\n",
              "      <td>0.0</td>\n",
              "      <td>0.3048</td>\n",
              "      <td>71.3</td>\n",
              "      <td>0.002663</td>\n",
              "      <td>125.951</td>\n",
              "    </tr>\n",
              "    <tr>\n",
              "      <th>3</th>\n",
              "      <td>1600</td>\n",
              "      <td>0.0</td>\n",
              "      <td>0.3048</td>\n",
              "      <td>71.3</td>\n",
              "      <td>0.002663</td>\n",
              "      <td>127.591</td>\n",
              "    </tr>\n",
              "    <tr>\n",
              "      <th>4</th>\n",
              "      <td>2000</td>\n",
              "      <td>0.0</td>\n",
              "      <td>0.3048</td>\n",
              "      <td>71.3</td>\n",
              "      <td>0.002663</td>\n",
              "      <td>127.461</td>\n",
              "    </tr>\n",
              "  </tbody>\n",
              "</table>\n",
              "</div>"
            ],
            "text/plain": [
              "   Frequency  ...   Scaled sound pressure level\n",
              "0        800  ...                       126.201\n",
              "1       1000  ...                       125.201\n",
              "2       1250  ...                       125.951\n",
              "3       1600  ...                       127.591\n",
              "4       2000  ...                       127.461\n",
              "\n",
              "[5 rows x 6 columns]"
            ]
          },
          "metadata": {},
          "execution_count": 23
        }
      ]
    },
    {
      "cell_type": "code",
      "metadata": {
        "colab": {
          "base_uri": "https://localhost:8080/"
        },
        "id": "JCWS_Dk5yt-d",
        "outputId": "e598cefd-3cde-4fd4-e2f0-0cfd24c7a110"
      },
      "source": [
        "df_noise.shape"
      ],
      "execution_count": null,
      "outputs": [
        {
          "output_type": "execute_result",
          "data": {
            "text/plain": [
              "(1503, 6)"
            ]
          },
          "metadata": {},
          "execution_count": 24
        }
      ]
    },
    {
      "cell_type": "code",
      "metadata": {
        "colab": {
          "base_uri": "https://localhost:8080/",
          "height": 297
        },
        "id": "ItbeNwYtzqo3",
        "outputId": "e504ebfc-312f-4323-9656-c6d01e2f6af5"
      },
      "source": [
        "df_noise.describe()"
      ],
      "execution_count": null,
      "outputs": [
        {
          "output_type": "execute_result",
          "data": {
            "text/html": [
              "<div>\n",
              "<style scoped>\n",
              "    .dataframe tbody tr th:only-of-type {\n",
              "        vertical-align: middle;\n",
              "    }\n",
              "\n",
              "    .dataframe tbody tr th {\n",
              "        vertical-align: top;\n",
              "    }\n",
              "\n",
              "    .dataframe thead th {\n",
              "        text-align: right;\n",
              "    }\n",
              "</style>\n",
              "<table border=\"1\" class=\"dataframe\">\n",
              "  <thead>\n",
              "    <tr style=\"text-align: right;\">\n",
              "      <th></th>\n",
              "      <th>Frequency</th>\n",
              "      <th>Angle of attack</th>\n",
              "      <th>Chord length</th>\n",
              "      <th>Free-stream velocity</th>\n",
              "      <th>Suction side displacement thickness</th>\n",
              "      <th>Scaled sound pressure level</th>\n",
              "    </tr>\n",
              "  </thead>\n",
              "  <tbody>\n",
              "    <tr>\n",
              "      <th>count</th>\n",
              "      <td>1503.000000</td>\n",
              "      <td>1503.000000</td>\n",
              "      <td>1503.000000</td>\n",
              "      <td>1503.000000</td>\n",
              "      <td>1503.000000</td>\n",
              "      <td>1503.000000</td>\n",
              "    </tr>\n",
              "    <tr>\n",
              "      <th>mean</th>\n",
              "      <td>2886.380572</td>\n",
              "      <td>6.782302</td>\n",
              "      <td>0.136548</td>\n",
              "      <td>50.860745</td>\n",
              "      <td>0.011140</td>\n",
              "      <td>124.835943</td>\n",
              "    </tr>\n",
              "    <tr>\n",
              "      <th>std</th>\n",
              "      <td>3152.573137</td>\n",
              "      <td>5.918128</td>\n",
              "      <td>0.093541</td>\n",
              "      <td>15.572784</td>\n",
              "      <td>0.013150</td>\n",
              "      <td>6.898657</td>\n",
              "    </tr>\n",
              "    <tr>\n",
              "      <th>min</th>\n",
              "      <td>200.000000</td>\n",
              "      <td>0.000000</td>\n",
              "      <td>0.025400</td>\n",
              "      <td>31.700000</td>\n",
              "      <td>0.000401</td>\n",
              "      <td>103.380000</td>\n",
              "    </tr>\n",
              "    <tr>\n",
              "      <th>25%</th>\n",
              "      <td>800.000000</td>\n",
              "      <td>2.000000</td>\n",
              "      <td>0.050800</td>\n",
              "      <td>39.600000</td>\n",
              "      <td>0.002535</td>\n",
              "      <td>120.191000</td>\n",
              "    </tr>\n",
              "    <tr>\n",
              "      <th>50%</th>\n",
              "      <td>1600.000000</td>\n",
              "      <td>5.400000</td>\n",
              "      <td>0.101600</td>\n",
              "      <td>39.600000</td>\n",
              "      <td>0.004957</td>\n",
              "      <td>125.721000</td>\n",
              "    </tr>\n",
              "    <tr>\n",
              "      <th>75%</th>\n",
              "      <td>4000.000000</td>\n",
              "      <td>9.900000</td>\n",
              "      <td>0.228600</td>\n",
              "      <td>71.300000</td>\n",
              "      <td>0.015576</td>\n",
              "      <td>129.995500</td>\n",
              "    </tr>\n",
              "    <tr>\n",
              "      <th>max</th>\n",
              "      <td>20000.000000</td>\n",
              "      <td>22.200000</td>\n",
              "      <td>0.304800</td>\n",
              "      <td>71.300000</td>\n",
              "      <td>0.058411</td>\n",
              "      <td>140.987000</td>\n",
              "    </tr>\n",
              "  </tbody>\n",
              "</table>\n",
              "</div>"
            ],
            "text/plain": [
              "          Frequency  ...   Scaled sound pressure level\n",
              "count   1503.000000  ...                   1503.000000\n",
              "mean    2886.380572  ...                    124.835943\n",
              "std     3152.573137  ...                      6.898657\n",
              "min      200.000000  ...                    103.380000\n",
              "25%      800.000000  ...                    120.191000\n",
              "50%     1600.000000  ...                    125.721000\n",
              "75%     4000.000000  ...                    129.995500\n",
              "max    20000.000000  ...                    140.987000\n",
              "\n",
              "[8 rows x 6 columns]"
            ]
          },
          "metadata": {},
          "execution_count": 25
        }
      ]
    },
    {
      "cell_type": "code",
      "metadata": {
        "colab": {
          "base_uri": "https://localhost:8080/"
        },
        "id": "6sr0Rvjgzt32",
        "outputId": "50ad97af-63cf-4ef2-ce5b-8aafab152463"
      },
      "source": [
        "df_audio.isnull().sum()"
      ],
      "execution_count": null,
      "outputs": [
        {
          "output_type": "execute_result",
          "data": {
            "text/plain": [
              "language    0\n",
              "X1          0\n",
              "X2          0\n",
              "X3          0\n",
              "X4          0\n",
              "X5          0\n",
              "X6          0\n",
              "X7          0\n",
              "X8          0\n",
              "X9          0\n",
              "X10         0\n",
              "X11         0\n",
              "X12         0\n",
              "dtype: int64"
            ]
          },
          "metadata": {},
          "execution_count": 26
        }
      ]
    },
    {
      "cell_type": "code",
      "metadata": {
        "colab": {
          "base_uri": "https://localhost:8080/"
        },
        "id": "ZOrudJY4z4jL",
        "outputId": "b3fe870e-0085-4e45-c058-65cc8683d028"
      },
      "source": [
        "Q1 = df_noise.quantile(0.25)\n",
        "Q3 = df_noise.quantile(0.75)\n",
        "IQR = Q3 - Q1\n",
        "\n",
        "lower_bound = Q1 - (1.5 * IQR)\n",
        "upper_bound = Q3 + (1.5 * IQR)\n",
        "\n",
        "df_noise[~((df_noise < lower_bound) | (df_noise > upper_bound).any(axis=1))]\n",
        "df_noise.shape"
      ],
      "execution_count": null,
      "outputs": [
        {
          "output_type": "execute_result",
          "data": {
            "text/plain": [
              "(1503, 6)"
            ]
          },
          "metadata": {},
          "execution_count": 27
        }
      ]
    },
    {
      "cell_type": "code",
      "metadata": {
        "id": "T5nUeKNl0DJe"
      },
      "source": [
        "X = df_noise.iloc[:, :-1]\n",
        "y = df_noise.iloc[:, -1]\n",
        "\n",
        "# df_noise_std = pd.DataFrame(std_scaler.fit_transform(X), columns=X.columns)\n",
        "# df_noise_std"
      ],
      "execution_count": null,
      "outputs": []
    },
    {
      "cell_type": "code",
      "metadata": {
        "colab": {
          "base_uri": "https://localhost:8080/",
          "height": 1000
        },
        "id": "EhhxiR2k0Was",
        "outputId": "aa488dbb-f7c8-4d35-df27-f33e6e5e6dee"
      },
      "source": [
        "import seaborn as sns\n",
        "\n",
        "sns.pairplot(df_noise)"
      ],
      "execution_count": null,
      "outputs": [
        {
          "output_type": "execute_result",
          "data": {
            "text/plain": [
              "<seaborn.axisgrid.PairGrid at 0x7f90a0a168d0>"
            ]
          },
          "metadata": {},
          "execution_count": 29
        },
        {
          "output_type": "display_data",
          "data": {
            "image/png": "[encoded data removed]",
            "text/plain": [
              "<Figure size 1080x1080 with 42 Axes>"
            ]
          },
          "metadata": {
            "needs_background": "light"
          }
        }
      ]
    },
    {
      "cell_type": "markdown",
      "metadata": {
        "id": "mgIB6aj9J_mu"
      },
      "source": [
        "Melakukan split dataset dengan rasio 70:30"
      ]
    },
    {
      "cell_type": "code",
      "metadata": {
        "id": "chohEBtE1EJh"
      },
      "source": [
        "X_train, X_test, y_train, y_test = train_test_split(X, y, test_size=0.3, random_state=42)"
      ],
      "execution_count": null,
      "outputs": []
    },
    {
      "cell_type": "code",
      "metadata": {
        "id": "GDSD7m8N1hLZ"
      },
      "source": [
        "std_scaler = StandardScaler()\n",
        "X_train = std_scaler.fit_transform(X_train)\n",
        "X_test = std_scaler.transform(X_test)"
      ],
      "execution_count": null,
      "outputs": []
    },
    {
      "cell_type": "markdown",
      "metadata": {
        "id": "l9ORJMqNKQMe"
      },
      "source": [
        "Pada evaluasi model di bawah menggunakan _mean absolute error_ untuk model _support vector regression_ didapatkan nilai terkecil menggunakan kernel = (radial basis function) rbf. Dan untuk evaluasi menggunakan metrik _mean squared error_ juga didapatkan nilai terkecil menggunakan kernel = (radial basis function) rbf."
      ]
    },
    {
      "cell_type": "code",
      "metadata": {
        "colab": {
          "base_uri": "https://localhost:8080/"
        },
        "id": "AegziGrv2CHv",
        "outputId": "dc8ffd2c-1fd6-49c1-dbb4-67cb44e7f44a"
      },
      "source": [
        "from sklearn.svm import SVR\n",
        "from sklearn.metrics import mean_absolute_error\n",
        "from sklearn.metrics import mean_squared_error\n",
        "\n",
        "clf0 = SVR(kernel='rbf')\n",
        "clf1 = SVR(kernel='poly')\n",
        "clf2 = SVR(kernel='linear')\n",
        "clf0.fit(X_train,y_train)\n",
        "clf1.fit(X_train, y_train)\n",
        "clf2.fit(X_train, y_train)\n",
        "y_train_pred0 = clf0.predict(X_train)\n",
        "y_pred0 = clf0.predict(X_test)\n",
        "\n",
        "y_train_pred1 = clf1.predict(X_train)\n",
        "y_pred1 = clf1.predict(X_test)\n",
        "\n",
        "y_train_pred2 = clf2.predict(X_train)\n",
        "y_pred2 = clf2.predict(X_test)\n",
        "\n",
        "print ('MAE train', mean_absolute_error(y_train, y_train_pred0))\n",
        "print ('MAE test', mean_absolute_error(y_test, y_pred0))\n",
        "print()\n",
        "print ('MAE train', mean_absolute_error(y_train, y_train_pred1))\n",
        "print ('MAE test', mean_absolute_error(y_test, y_pred1))\n",
        "print()\n",
        "print ('MAE train', mean_absolute_error(y_train, y_train_pred2))\n",
        "print ('MAE test', mean_absolute_error(y_test, y_pred2))\n",
        "print()\n",
        "print ('MSE train', mean_squared_error(y_train, y_train_pred0))\n",
        "print ('MSE test', mean_squared_error(y_test, y_pred0))\n",
        "print()\n",
        "print ('MSE train', mean_squared_error(y_train, y_train_pred1))\n",
        "print ('MSE test', mean_squared_error(y_test, y_pred1))\n",
        "print()\n",
        "print ('MSE train', mean_squared_error(y_train, y_train_pred2))\n",
        "print ('MSE test', mean_squared_error(y_test, y_pred2))\n",
        "# print(accuracy_score(y_test,\n",
        "#                      y_pred))"
      ],
      "execution_count": null,
      "outputs": [
        {
          "output_type": "stream",
          "name": "stdout",
          "text": [
            "MAE train 2.711815978058039\n",
            "MAE test 2.970996804262825\n",
            "\n",
            "MAE train 3.6558500504664053\n",
            "MAE test 3.5890741057878777\n",
            "\n",
            "MAE train 3.6533119424740863\n",
            "MAE test 3.6923612544576807\n",
            "\n",
            "MSE train 13.842801783559649\n",
            "MSE test 15.916854614415916\n",
            "\n",
            "MSE train 22.80802164820378\n",
            "MSE test 21.231970363617034\n",
            "\n",
            "MSE train 23.332961743577982\n",
            "MSE test 24.085636529879597\n"
          ]
        }
      ]
    },
    {
      "cell_type": "code",
      "metadata": {
        "id": "JoR55KUb2dk4"
      },
      "source": [
        ""
      ],
      "execution_count": null,
      "outputs": []
    }
  ]
}