{
  "nbformat": 4,
  "nbformat_minor": 0,
  "metadata": {
    "colab": {
      "name": "Untitled2.ipynb",
      "provenance": [],
      "collapsed_sections": []
    },
    "kernelspec": {
      "name": "python3",
      "display_name": "Python 3"
    },
    "language_info": {
      "name": "python"
    }
  },
  "cells": [
    {
      "cell_type": "code",
      "metadata": {
        "colab": {
          "base_uri": "https://localhost:8080/"
        },
        "id": "Q4ITOlbw3dbT",
        "outputId": "250bd608-2abd-4696-fd59-d30acbe4325f"
      },
      "source": [
        "!pip install info-gain"
      ],
      "execution_count": 2,
      "outputs": [
        {
          "output_type": "stream",
          "name": "stdout",
          "text": [
            "Collecting info-gain\n",
            "  Downloading info_gain-1.0.1-py3-none-any.whl (3.3 kB)\n",
            "Installing collected packages: info-gain\n",
            "Successfully installed info-gain-1.0.1\n"
          ]
        }
      ]
    },
    {
      "cell_type": "code",
      "metadata": {
        "id": "tjUPwxos3wDA"
      },
      "source": [
        "import os\n",
        "import pandas as pd\n",
        "import numpy as np\n",
        "\n",
        "from info_gain import info_gain"
      ],
      "execution_count": 3,
      "outputs": []
    },
    {
      "cell_type": "code",
      "metadata": {
        "id": "P6_TUF3T6AoE"
      },
      "source": [
        "import json\n",
        "kaggle_entity = json.load(open('/content/kaggle.json'))\n",
        "KAGGLE_USERNAME = kaggle_entity['username']\n",
        "KAGGLE_API_KEY = kaggle_entity['key']\n",
        "\n",
        "os.environ['KAGGLE_USERNAME'] = KAGGLE_USERNAME\n",
        "os.environ['KAGGLE_KEY'] = KAGGLE_API_KEY"
      ],
      "execution_count": 7,
      "outputs": []
    },
    {
      "cell_type": "code",
      "metadata": {
        "colab": {
          "base_uri": "https://localhost:8080/"
        },
        "id": "VS14dYfd7i9j",
        "outputId": "fa87f32d-deb1-4f51-e41f-0ea8e21fbb50"
      },
      "source": [
        "!kaggle datasets download merishnasuwal/breast-cancer-prediction-dataset"
      ],
      "execution_count": 10,
      "outputs": [
        {
          "output_type": "stream",
          "name": "stdout",
          "text": [
            "Downloading breast-cancer-prediction-dataset.zip to /content\n",
            "\r  0% 0.00/7.92k [00:00<?, ?B/s]\n",
            "\r100% 7.92k/7.92k [00:00<00:00, 3.64MB/s]\n"
          ]
        }
      ]
    },
    {
      "cell_type": "code",
      "metadata": {
        "colab": {
          "base_uri": "https://localhost:8080/"
        },
        "id": "QOFSknUr7vzs",
        "outputId": "4a156a0f-7959-4eec-d19b-131306beca16"
      },
      "source": [
        "# if 'Breast_cancer_data.csv' not in os.listdir('/content/'):\n",
        "#   !unzip -q /content/breast-cancer-prediction-dataset.zip\n",
        "\n",
        "!wget https://archive.ics.uci.edu/ml/machine-learning-databases/car/car.data"
      ],
      "execution_count": 20,
      "outputs": [
        {
          "output_type": "stream",
          "name": "stdout",
          "text": [
            "--2021-09-12 07:53:10--  https://archive.ics.uci.edu/ml/machine-learning-databases/car/car.data\n",
            "Resolving archive.ics.uci.edu (archive.ics.uci.edu)... 128.195.10.252\n",
            "Connecting to archive.ics.uci.edu (archive.ics.uci.edu)|128.195.10.252|:443... connected.\n",
            "HTTP request sent, awaiting response... 200 OK\n",
            "Length: 51867 (51K) [application/x-httpd-php]\n",
            "Saving to: ‘car.data’\n",
            "\n",
            "car.data            100%[===================>]  50.65K  --.-KB/s    in 0.1s    \n",
            "\n",
            "2021-09-12 07:53:10 (391 KB/s) - ‘car.data’ saved [51867/51867]\n",
            "\n"
          ]
        }
      ]
    },
    {
      "cell_type": "code",
      "metadata": {
        "colab": {
          "base_uri": "https://localhost:8080/",
          "height": 35
        },
        "id": "AKRsslqn8jR3",
        "outputId": "59f1cd83-99f7-4a26-8fd3-4957f218493d"
      },
      "source": [
        "df = pd.read_csv('/content/car.data', header=None)\n",
        "df = df.loc[(df[6] == 'unacc') | (df[6] == 'acc')]\n",
        "\n",
        "'''\n",
        "attribute : \n",
        "buying: vhigh, high, med, low.\n",
        "maint: vhigh, high, med, low.\n",
        "doors: 2, 3, 4, 5more.\n",
        "persons: 2, 4, more.\n",
        "lug_boot: small, med, big.\n",
        "safety: low, med, high.\n",
        "'''\n",
        "\n",
        "df.columns = ['buying', 'maint', 'doors', 'persons', 'lug_boot', 'safety', 'values']\n",
        "df.head()\n",
        "# df['values'].unique().tolist()"
      ],
      "execution_count": 140,
      "outputs": [
        {
          "output_type": "execute_result",
          "data": {
            "application/vnd.google.colaboratory.intrinsic+json": {
              "type": "string"
            },
            "text/plain": [
              "'unacc'"
            ]
          },
          "metadata": {},
          "execution_count": 140
        }
      ]
    },
    {
      "cell_type": "code",
      "metadata": {
        "colab": {
          "base_uri": "https://localhost:8080/"
        },
        "id": "8joAT_fRXRdv",
        "outputId": "8b461d41-9e7e-4b50-ce1f-7a9935d84395"
      },
      "source": [
        "info_gain.info_gain(df['values'].values, df['buying'].values)"
      ],
      "execution_count": 46,
      "outputs": [
        {
          "output_type": "execute_result",
          "data": {
            "text/plain": [
              "0.00683644420760432"
            ]
          },
          "metadata": {},
          "execution_count": 46
        }
      ]
    },
    {
      "cell_type": "code",
      "metadata": {
        "colab": {
          "base_uri": "https://localhost:8080/",
          "height": 173
        },
        "id": "AaN_3wnJ9gYm",
        "outputId": "1168b537-79fc-4716-9337-5d3b98e7a9ff"
      },
      "source": [
        "df.describe()"
      ],
      "execution_count": 29,
      "outputs": [
        {
          "output_type": "execute_result",
          "data": {
            "text/html": [
              "<div>\n",
              "<style scoped>\n",
              "    .dataframe tbody tr th:only-of-type {\n",
              "        vertical-align: middle;\n",
              "    }\n",
              "\n",
              "    .dataframe tbody tr th {\n",
              "        vertical-align: top;\n",
              "    }\n",
              "\n",
              "    .dataframe thead th {\n",
              "        text-align: right;\n",
              "    }\n",
              "</style>\n",
              "<table border=\"1\" class=\"dataframe\">\n",
              "  <thead>\n",
              "    <tr style=\"text-align: right;\">\n",
              "      <th></th>\n",
              "      <th>0</th>\n",
              "      <th>1</th>\n",
              "      <th>2</th>\n",
              "      <th>3</th>\n",
              "      <th>4</th>\n",
              "      <th>5</th>\n",
              "      <th>6</th>\n",
              "    </tr>\n",
              "  </thead>\n",
              "  <tbody>\n",
              "    <tr>\n",
              "      <th>count</th>\n",
              "      <td>1594</td>\n",
              "      <td>1594</td>\n",
              "      <td>1594</td>\n",
              "      <td>1594</td>\n",
              "      <td>1594</td>\n",
              "      <td>1594</td>\n",
              "      <td>1594</td>\n",
              "    </tr>\n",
              "    <tr>\n",
              "      <th>unique</th>\n",
              "      <td>4</td>\n",
              "      <td>4</td>\n",
              "      <td>4</td>\n",
              "      <td>3</td>\n",
              "      <td>3</td>\n",
              "      <td>3</td>\n",
              "      <td>2</td>\n",
              "    </tr>\n",
              "    <tr>\n",
              "      <th>top</th>\n",
              "      <td>vhigh</td>\n",
              "      <td>vhigh</td>\n",
              "      <td>2</td>\n",
              "      <td>2</td>\n",
              "      <td>small</td>\n",
              "      <td>low</td>\n",
              "      <td>unacc</td>\n",
              "    </tr>\n",
              "    <tr>\n",
              "      <th>freq</th>\n",
              "      <td>432</td>\n",
              "      <td>432</td>\n",
              "      <td>407</td>\n",
              "      <td>576</td>\n",
              "      <td>555</td>\n",
              "      <td>576</td>\n",
              "      <td>1210</td>\n",
              "    </tr>\n",
              "  </tbody>\n",
              "</table>\n",
              "</div>"
            ],
            "text/plain": [
              "            0      1     2     3      4     5      6\n",
              "count    1594   1594  1594  1594   1594  1594   1594\n",
              "unique      4      4     4     3      3     3      2\n",
              "top     vhigh  vhigh     2     2  small   low  unacc\n",
              "freq      432    432   407   576    555   576   1210"
            ]
          },
          "metadata": {},
          "execution_count": 29
        }
      ]
    },
    {
      "cell_type": "code",
      "metadata": {
        "colab": {
          "base_uri": "https://localhost:8080/"
        },
        "id": "vLWU08ayUrDh",
        "outputId": "0ee0950c-a2b4-40e4-f9a8-aace77f8cf98"
      },
      "source": [
        "features = df.columns[:-1].tolist()\n",
        "features"
      ],
      "execution_count": 78,
      "outputs": [
        {
          "output_type": "execute_result",
          "data": {
            "text/plain": [
              "['buying', 'maint', 'doors', 'persons', 'lug_boot', 'safety']"
            ]
          },
          "metadata": {},
          "execution_count": 78
        }
      ]
    },
    {
      "cell_type": "code",
      "metadata": {
        "id": "1N36MJJWRaAq"
      },
      "source": [
        "def base_case(df_, features_, y):\n",
        "\n",
        "  un = df_[y].unique()\n",
        "  if len(un) == 1:\n",
        "    return un[0], True\n",
        "  \n",
        "  if len(features_) == 0:\n",
        "    return df_[y].max(), True\n",
        "\n",
        "  return '', False"
      ],
      "execution_count": 182,
      "outputs": []
    },
    {
      "cell_type": "code",
      "metadata": {
        "id": "sP2V8WoiQxH6"
      },
      "source": [
        "def generate_tree(feature, features_, value, df_, y):\n",
        "  target, base = base_case(df_, features_, y)\n",
        "  print(base)\n",
        "  # print(target)\n",
        "  if base:\n",
        "    print(y, target) \n",
        "  else:\n",
        "    # cari feature dengan information_gain tertinggi\n",
        "    max = -100000\n",
        "    max_f = ''\n",
        "    for f in features_:\n",
        "      gain = info_gain.info_gain_ratio(df_[y].values, df_[f].values)\n",
        "      if max < gain:\n",
        "        max_f, max = f, gain\n",
        "\n",
        "    # print(max_f)\n",
        "    # print(features_copy)\n",
        "    list_values = df_[max_f].unique()\n",
        "    features_copy = features_.copy()\n",
        "    features_copy.remove(max_f)\n",
        "    for v in list_values:\n",
        "      df_copy = df_.copy()\n",
        "      print('this -> ' + max_f)\n",
        "      df_copy = df_copy.loc[df_copy[max_f] == v]\n",
        "      print(df_copy)\n",
        "      generate_tree(max_f, features_copy, v, df_copy, y)"
      ],
      "execution_count": 199,
      "outputs": []
    },
    {
      "cell_type": "code",
      "metadata": {
        "colab": {
          "base_uri": "https://localhost:8080/",
          "height": 483
        },
        "id": "x-EcxCBrbGkz",
        "outputId": "2b794365-e528-4e60-e811-3b0f9b386f56"
      },
      "source": [
        "df_0 = pd.DataFrame({\n",
        "    'Fever' : [False, True, True, True, True, False, True, True, False, True, False, False, False, True],\n",
        "    'Cough' : [False, True, True, False, True, True, False, False, True, True, True, True, True, True],\n",
        "    'Breathing issues' : [False, True, False, True, True, False, True, True, True, False, False, True, True, False],\n",
        "    'Infected' : [False, True, False, True, True, False, False, True, True, True, True, False, True, False]\n",
        "})\n",
        "\n",
        "df_0"
      ],
      "execution_count": 170,
      "outputs": [
        {
          "output_type": "execute_result",
          "data": {
            "text/html": [
              "<div>\n",
              "<style scoped>\n",
              "    .dataframe tbody tr th:only-of-type {\n",
              "        vertical-align: middle;\n",
              "    }\n",
              "\n",
              "    .dataframe tbody tr th {\n",
              "        vertical-align: top;\n",
              "    }\n",
              "\n",
              "    .dataframe thead th {\n",
              "        text-align: right;\n",
              "    }\n",
              "</style>\n",
              "<table border=\"1\" class=\"dataframe\">\n",
              "  <thead>\n",
              "    <tr style=\"text-align: right;\">\n",
              "      <th></th>\n",
              "      <th>Fever</th>\n",
              "      <th>Cough</th>\n",
              "      <th>Breathing issues</th>\n",
              "      <th>Infected</th>\n",
              "    </tr>\n",
              "  </thead>\n",
              "  <tbody>\n",
              "    <tr>\n",
              "      <th>0</th>\n",
              "      <td>False</td>\n",
              "      <td>False</td>\n",
              "      <td>False</td>\n",
              "      <td>False</td>\n",
              "    </tr>\n",
              "    <tr>\n",
              "      <th>1</th>\n",
              "      <td>True</td>\n",
              "      <td>True</td>\n",
              "      <td>True</td>\n",
              "      <td>True</td>\n",
              "    </tr>\n",
              "    <tr>\n",
              "      <th>2</th>\n",
              "      <td>True</td>\n",
              "      <td>True</td>\n",
              "      <td>False</td>\n",
              "      <td>False</td>\n",
              "    </tr>\n",
              "    <tr>\n",
              "      <th>3</th>\n",
              "      <td>True</td>\n",
              "      <td>False</td>\n",
              "      <td>True</td>\n",
              "      <td>True</td>\n",
              "    </tr>\n",
              "    <tr>\n",
              "      <th>4</th>\n",
              "      <td>True</td>\n",
              "      <td>True</td>\n",
              "      <td>True</td>\n",
              "      <td>True</td>\n",
              "    </tr>\n",
              "    <tr>\n",
              "      <th>5</th>\n",
              "      <td>False</td>\n",
              "      <td>True</td>\n",
              "      <td>False</td>\n",
              "      <td>False</td>\n",
              "    </tr>\n",
              "    <tr>\n",
              "      <th>6</th>\n",
              "      <td>True</td>\n",
              "      <td>False</td>\n",
              "      <td>True</td>\n",
              "      <td>False</td>\n",
              "    </tr>\n",
              "    <tr>\n",
              "      <th>7</th>\n",
              "      <td>True</td>\n",
              "      <td>False</td>\n",
              "      <td>True</td>\n",
              "      <td>True</td>\n",
              "    </tr>\n",
              "    <tr>\n",
              "      <th>8</th>\n",
              "      <td>False</td>\n",
              "      <td>True</td>\n",
              "      <td>True</td>\n",
              "      <td>True</td>\n",
              "    </tr>\n",
              "    <tr>\n",
              "      <th>9</th>\n",
              "      <td>True</td>\n",
              "      <td>True</td>\n",
              "      <td>False</td>\n",
              "      <td>True</td>\n",
              "    </tr>\n",
              "    <tr>\n",
              "      <th>10</th>\n",
              "      <td>False</td>\n",
              "      <td>True</td>\n",
              "      <td>False</td>\n",
              "      <td>True</td>\n",
              "    </tr>\n",
              "    <tr>\n",
              "      <th>11</th>\n",
              "      <td>False</td>\n",
              "      <td>True</td>\n",
              "      <td>True</td>\n",
              "      <td>False</td>\n",
              "    </tr>\n",
              "    <tr>\n",
              "      <th>12</th>\n",
              "      <td>False</td>\n",
              "      <td>True</td>\n",
              "      <td>True</td>\n",
              "      <td>True</td>\n",
              "    </tr>\n",
              "    <tr>\n",
              "      <th>13</th>\n",
              "      <td>True</td>\n",
              "      <td>True</td>\n",
              "      <td>False</td>\n",
              "      <td>False</td>\n",
              "    </tr>\n",
              "  </tbody>\n",
              "</table>\n",
              "</div>"
            ],
            "text/plain": [
              "    Fever  Cough  Breathing issues  Infected\n",
              "0   False  False             False     False\n",
              "1    True   True              True      True\n",
              "2    True   True             False     False\n",
              "3    True  False              True      True\n",
              "4    True   True              True      True\n",
              "5   False   True             False     False\n",
              "6    True  False              True     False\n",
              "7    True  False              True      True\n",
              "8   False   True              True      True\n",
              "9    True   True             False      True\n",
              "10  False   True             False      True\n",
              "11  False   True              True     False\n",
              "12  False   True              True      True\n",
              "13   True   True             False     False"
            ]
          },
          "metadata": {},
          "execution_count": 170
        }
      ]
    },
    {
      "cell_type": "code",
      "metadata": {
        "id": "LwCKidRncmWy"
      },
      "source": [
        "cols = df_0.columns[:-1].tolist()\n",
        "df_0_copy = df_0.copy()\n",
        "# df_copy = df.copy()\n",
        "\n",
        "generate_tree('', cols, '', df_0_copy, 'Infected')"
      ],
      "execution_count": null,
      "outputs": []
    }
  ]
}