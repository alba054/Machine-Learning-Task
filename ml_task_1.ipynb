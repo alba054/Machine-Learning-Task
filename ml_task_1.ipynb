{
  "nbformat": 4,
  "nbformat_minor": 0,
  "metadata": {
    "colab": {
      "name": "ml-task-1.ipynb",
      "provenance": []
    },
    "kernelspec": {
      "name": "python3",
      "display_name": "Python 3"
    },
    "language_info": {
      "name": "python"
    }
  },
  "cells": [
    {
      "cell_type": "markdown",
      "metadata": {
        "id": "T5uzlNd_vb-W"
      },
      "source": [
        "# Downloading Dataset"
      ]
    },
    {
      "cell_type": "markdown",
      "metadata": {
        "id": "pMrOLdfWvuvS"
      },
      "source": [
        "Download dataset dari repository UCI"
      ]
    },
    {
      "cell_type": "code",
      "metadata": {
        "colab": {
          "base_uri": "https://localhost:8080/"
        },
        "id": "ZeiSODglvR5v",
        "outputId": "91d68d34-0575-44ca-9ae1-17ff0fab27f9"
      },
      "source": [
        "!wget https://archive.ics.uci.edu/ml/machine-learning-databases/00553/e-shop%20data%20and%20description.zip"
      ],
      "execution_count": 1,
      "outputs": [
        {
          "output_type": "stream",
          "name": "stdout",
          "text": [
            "--2021-09-05 11:35:46--  https://archive.ics.uci.edu/ml/machine-learning-databases/00553/e-shop%20data%20and%20description.zip\n",
            "Resolving archive.ics.uci.edu (archive.ics.uci.edu)... 128.195.10.252\n",
            "Connecting to archive.ics.uci.edu (archive.ics.uci.edu)|128.195.10.252|:443... connected.\n",
            "HTTP request sent, awaiting response... 200 OK\n",
            "Length: 795262 (777K) [application/x-httpd-php]\n",
            "Saving to: ‘e-shop data and description.zip.1’\n",
            "\n",
            "e-shop data and des 100%[===================>] 776.62K  --.-KB/s    in 0.05s   \n",
            "\n",
            "2021-09-05 11:35:46 (13.9 MB/s) - ‘e-shop data and description.zip.1’ saved [795262/795262]\n",
            "\n"
          ]
        }
      ]
    },
    {
      "cell_type": "markdown",
      "metadata": {
        "id": "1_lzAXvpv39c"
      },
      "source": [
        "Ekstrak file yang telah didownload"
      ]
    },
    {
      "cell_type": "code",
      "metadata": {
        "id": "l6j-O80mvbTT"
      },
      "source": [
        "!unzip -q /content/e-shop data and description.zip"
      ],
      "execution_count": null,
      "outputs": []
    },
    {
      "cell_type": "code",
      "metadata": {
        "id": "9iqfH5mkhwB8"
      },
      "source": [
        "import pandas as pd\n",
        "import numpy as np\n",
        "import matplotlib.pyplot as plt\n",
        "import seaborn as sns"
      ],
      "execution_count": 10,
      "outputs": []
    },
    {
      "cell_type": "markdown",
      "metadata": {
        "id": "Tyiq2D0LsN3M"
      },
      "source": [
        "# Preprocessing"
      ]
    },
    {
      "cell_type": "markdown",
      "metadata": {
        "id": "JHnecB5KvLmP"
      },
      "source": [
        "Baca File csv lalu reduksi data dengan menggunakan masking"
      ]
    },
    {
      "cell_type": "code",
      "metadata": {
        "colab": {
          "base_uri": "https://localhost:8080/",
          "height": 453
        },
        "id": "MD3bTlaJliZc",
        "outputId": "b402ef17-5a7f-4dfb-c999-bd55a9327b39"
      },
      "source": [
        "shop_df = pd.read_csv('/content/e-shop clothing 2008.csv', sep=';')\n",
        "shop_df = shop_df.loc[(shop_df['price 2'] == 2) & \n",
        "                      (shop_df['page'] == 1) & \n",
        "                      ~(shop_df['month'] == 8) & \n",
        "                      ~(shop_df['month'] == 7) &\n",
        "                      ~(shop_df['month'] == 6) &\n",
        "                      ~(shop_df['day'] == 1) &\n",
        "                      ~(shop_df['day'] == 2) &\n",
        "                      ~(shop_df['day'] == 5) &\n",
        "                      ~(shop_df['day'] == 3) &\n",
        "                      ~(shop_df['day'] == 4) &\n",
        "                      ~(shop_df['day'] == 10) &\n",
        "                      ((shop_df['country'] >= 30) & \n",
        "                       (shop_df['country'] <= 42)) &\n",
        "                      ~(shop_df['day'] == 31)]\n",
        "\n",
        "shop_df"
      ],
      "execution_count": 54,
      "outputs": [
        {
          "output_type": "execute_result",
          "data": {
            "text/html": [
              "<div>\n",
              "<style scoped>\n",
              "    .dataframe tbody tr th:only-of-type {\n",
              "        vertical-align: middle;\n",
              "    }\n",
              "\n",
              "    .dataframe tbody tr th {\n",
              "        vertical-align: top;\n",
              "    }\n",
              "\n",
              "    .dataframe thead th {\n",
              "        text-align: right;\n",
              "    }\n",
              "</style>\n",
              "<table border=\"1\" class=\"dataframe\">\n",
              "  <thead>\n",
              "    <tr style=\"text-align: right;\">\n",
              "      <th></th>\n",
              "      <th>year</th>\n",
              "      <th>month</th>\n",
              "      <th>day</th>\n",
              "      <th>order</th>\n",
              "      <th>country</th>\n",
              "      <th>session ID</th>\n",
              "      <th>page 1 (main category)</th>\n",
              "      <th>page 2 (clothing model)</th>\n",
              "      <th>colour</th>\n",
              "      <th>location</th>\n",
              "      <th>model photography</th>\n",
              "      <th>price</th>\n",
              "      <th>price 2</th>\n",
              "      <th>page</th>\n",
              "    </tr>\n",
              "  </thead>\n",
              "  <tbody>\n",
              "    <tr>\n",
              "      <th>14832</th>\n",
              "      <td>2008</td>\n",
              "      <td>4</td>\n",
              "      <td>7</td>\n",
              "      <td>1</td>\n",
              "      <td>41</td>\n",
              "      <td>2163</td>\n",
              "      <td>1</td>\n",
              "      <td>A2</td>\n",
              "      <td>3</td>\n",
              "      <td>1</td>\n",
              "      <td>1</td>\n",
              "      <td>43</td>\n",
              "      <td>2</td>\n",
              "      <td>1</td>\n",
              "    </tr>\n",
              "    <tr>\n",
              "      <th>17271</th>\n",
              "      <td>2008</td>\n",
              "      <td>4</td>\n",
              "      <td>9</td>\n",
              "      <td>8</td>\n",
              "      <td>34</td>\n",
              "      <td>2492</td>\n",
              "      <td>2</td>\n",
              "      <td>B15</td>\n",
              "      <td>9</td>\n",
              "      <td>5</td>\n",
              "      <td>1</td>\n",
              "      <td>38</td>\n",
              "      <td>2</td>\n",
              "      <td>1</td>\n",
              "    </tr>\n",
              "    <tr>\n",
              "      <th>20154</th>\n",
              "      <td>2008</td>\n",
              "      <td>4</td>\n",
              "      <td>11</td>\n",
              "      <td>7</td>\n",
              "      <td>41</td>\n",
              "      <td>2923</td>\n",
              "      <td>3</td>\n",
              "      <td>C14</td>\n",
              "      <td>9</td>\n",
              "      <td>5</td>\n",
              "      <td>1</td>\n",
              "      <td>23</td>\n",
              "      <td>2</td>\n",
              "      <td>1</td>\n",
              "    </tr>\n",
              "    <tr>\n",
              "      <th>20157</th>\n",
              "      <td>2008</td>\n",
              "      <td>4</td>\n",
              "      <td>11</td>\n",
              "      <td>10</td>\n",
              "      <td>41</td>\n",
              "      <td>2923</td>\n",
              "      <td>2</td>\n",
              "      <td>B12</td>\n",
              "      <td>2</td>\n",
              "      <td>4</td>\n",
              "      <td>1</td>\n",
              "      <td>38</td>\n",
              "      <td>2</td>\n",
              "      <td>1</td>\n",
              "    </tr>\n",
              "    <tr>\n",
              "      <th>20226</th>\n",
              "      <td>2008</td>\n",
              "      <td>4</td>\n",
              "      <td>11</td>\n",
              "      <td>2</td>\n",
              "      <td>41</td>\n",
              "      <td>2934</td>\n",
              "      <td>1</td>\n",
              "      <td>A12</td>\n",
              "      <td>2</td>\n",
              "      <td>4</td>\n",
              "      <td>1</td>\n",
              "      <td>38</td>\n",
              "      <td>2</td>\n",
              "      <td>1</td>\n",
              "    </tr>\n",
              "    <tr>\n",
              "      <th>...</th>\n",
              "      <td>...</td>\n",
              "      <td>...</td>\n",
              "      <td>...</td>\n",
              "      <td>...</td>\n",
              "      <td>...</td>\n",
              "      <td>...</td>\n",
              "      <td>...</td>\n",
              "      <td>...</td>\n",
              "      <td>...</td>\n",
              "      <td>...</td>\n",
              "      <td>...</td>\n",
              "      <td>...</td>\n",
              "      <td>...</td>\n",
              "      <td>...</td>\n",
              "    </tr>\n",
              "    <tr>\n",
              "      <th>82570</th>\n",
              "      <td>2008</td>\n",
              "      <td>5</td>\n",
              "      <td>30</td>\n",
              "      <td>1</td>\n",
              "      <td>41</td>\n",
              "      <td>11933</td>\n",
              "      <td>1</td>\n",
              "      <td>A12</td>\n",
              "      <td>2</td>\n",
              "      <td>4</td>\n",
              "      <td>1</td>\n",
              "      <td>38</td>\n",
              "      <td>2</td>\n",
              "      <td>1</td>\n",
              "    </tr>\n",
              "    <tr>\n",
              "      <th>82574</th>\n",
              "      <td>2008</td>\n",
              "      <td>5</td>\n",
              "      <td>30</td>\n",
              "      <td>5</td>\n",
              "      <td>41</td>\n",
              "      <td>11933</td>\n",
              "      <td>4</td>\n",
              "      <td>P8</td>\n",
              "      <td>2</td>\n",
              "      <td>3</td>\n",
              "      <td>1</td>\n",
              "      <td>28</td>\n",
              "      <td>2</td>\n",
              "      <td>1</td>\n",
              "    </tr>\n",
              "    <tr>\n",
              "      <th>82576</th>\n",
              "      <td>2008</td>\n",
              "      <td>5</td>\n",
              "      <td>30</td>\n",
              "      <td>7</td>\n",
              "      <td>41</td>\n",
              "      <td>11933</td>\n",
              "      <td>1</td>\n",
              "      <td>A12</td>\n",
              "      <td>2</td>\n",
              "      <td>4</td>\n",
              "      <td>1</td>\n",
              "      <td>38</td>\n",
              "      <td>2</td>\n",
              "      <td>1</td>\n",
              "    </tr>\n",
              "    <tr>\n",
              "      <th>82758</th>\n",
              "      <td>2008</td>\n",
              "      <td>5</td>\n",
              "      <td>30</td>\n",
              "      <td>2</td>\n",
              "      <td>34</td>\n",
              "      <td>11972</td>\n",
              "      <td>1</td>\n",
              "      <td>A13</td>\n",
              "      <td>1</td>\n",
              "      <td>5</td>\n",
              "      <td>1</td>\n",
              "      <td>28</td>\n",
              "      <td>2</td>\n",
              "      <td>1</td>\n",
              "    </tr>\n",
              "    <tr>\n",
              "      <th>83043</th>\n",
              "      <td>2008</td>\n",
              "      <td>5</td>\n",
              "      <td>30</td>\n",
              "      <td>2</td>\n",
              "      <td>34</td>\n",
              "      <td>12020</td>\n",
              "      <td>2</td>\n",
              "      <td>B11</td>\n",
              "      <td>2</td>\n",
              "      <td>4</td>\n",
              "      <td>1</td>\n",
              "      <td>43</td>\n",
              "      <td>2</td>\n",
              "      <td>1</td>\n",
              "    </tr>\n",
              "  </tbody>\n",
              "</table>\n",
              "<p>194 rows × 14 columns</p>\n",
              "</div>"
            ],
            "text/plain": [
              "       year  month  day  order  ...  model photography  price  price 2 page\n",
              "14832  2008      4    7      1  ...                  1     43        2    1\n",
              "17271  2008      4    9      8  ...                  1     38        2    1\n",
              "20154  2008      4   11      7  ...                  1     23        2    1\n",
              "20157  2008      4   11     10  ...                  1     38        2    1\n",
              "20226  2008      4   11      2  ...                  1     38        2    1\n",
              "...     ...    ...  ...    ...  ...                ...    ...      ...  ...\n",
              "82570  2008      5   30      1  ...                  1     38        2    1\n",
              "82574  2008      5   30      5  ...                  1     28        2    1\n",
              "82576  2008      5   30      7  ...                  1     38        2    1\n",
              "82758  2008      5   30      2  ...                  1     28        2    1\n",
              "83043  2008      5   30      2  ...                  1     43        2    1\n",
              "\n",
              "[194 rows x 14 columns]"
            ]
          },
          "metadata": {},
          "execution_count": 54
        }
      ]
    },
    {
      "cell_type": "markdown",
      "metadata": {
        "id": "MdM90Ft9wEij"
      },
      "source": [
        "Menggunakan library sklearn.preprocessing, pertama melakukan *label encoding* pada feature yang akan digunakan. Setelah itu, melakukan 2 normalisasi pada feature dengan *standard deviation scaling* dan *min max scaling*."
      ]
    },
    {
      "cell_type": "code",
      "metadata": {
        "id": "NjX-Sfsjlm3A"
      },
      "source": [
        "from sklearn.preprocessing import StandardScaler, MinMaxScaler, LabelEncoder\n",
        "\n",
        "atr = ['country', 'page 1 (main category)', 'price']\n",
        "\n",
        "le = LabelEncoder()\n",
        "page2_encode = le.fit_transform(shop_df['page 2 (clothing model)'].values)\n",
        "shop_df['page 2 (clothing model)'] = pd.Series(page2_encode)\n",
        "\n",
        "attribute_to_cluster = shop_df[atr]\n",
        "\n",
        "std_scaler = StandardScaler()\n",
        "minMax_scale = MinMaxScaler()\n",
        "\n",
        "shop_std_scale = std_scaler.fit_transform(attribute_to_cluster)\n",
        "shop_minMax_scale = minMax_scale.fit_transform(attribute_to_cluster)\n"
      ],
      "execution_count": 55,
      "outputs": []
    },
    {
      "cell_type": "code",
      "metadata": {
        "colab": {
          "base_uri": "https://localhost:8080/"
        },
        "id": "jaWuRJsix1T-",
        "outputId": "b878734d-bfbd-4eb2-e846-f404985cce1b"
      },
      "source": [
        "shop_minMax_scale[:5]"
      ],
      "execution_count": 56,
      "outputs": [
        {
          "output_type": "execute_result",
          "data": {
            "text/plain": [
              "array([[0.90909091, 0.        , 0.8       ],\n",
              "       [0.27272727, 0.33333333, 0.6       ],\n",
              "       [0.90909091, 0.66666667, 0.        ],\n",
              "       [0.90909091, 0.33333333, 0.6       ],\n",
              "       [0.90909091, 0.        , 0.6       ]])"
            ]
          },
          "metadata": {},
          "execution_count": 56
        }
      ]
    },
    {
      "cell_type": "markdown",
      "metadata": {
        "id": "UyPX8xG7wfC0"
      },
      "source": [
        "Membuat DataFrame yang akan digunakan untuk klasterisasi."
      ]
    },
    {
      "cell_type": "code",
      "metadata": {
        "colab": {
          "base_uri": "https://localhost:8080/",
          "height": 419
        },
        "id": "R8M1OaztqXtr",
        "outputId": "509b9b63-34e8-4aa9-c1c5-0e52a95cece1"
      },
      "source": [
        "data_cluster_std = pd.DataFrame(shop_std_scale)\n",
        "data_cluster_minMax = pd.DataFrame(shop_minMax_scale)\n",
        "\n",
        "data_cluster_std.columns = atr\n",
        "data_cluster_minMax.columns = atr\n",
        "\n",
        "data_cluster_minMax"
      ],
      "execution_count": 57,
      "outputs": [
        {
          "output_type": "execute_result",
          "data": {
            "text/html": [
              "<div>\n",
              "<style scoped>\n",
              "    .dataframe tbody tr th:only-of-type {\n",
              "        vertical-align: middle;\n",
              "    }\n",
              "\n",
              "    .dataframe tbody tr th {\n",
              "        vertical-align: top;\n",
              "    }\n",
              "\n",
              "    .dataframe thead th {\n",
              "        text-align: right;\n",
              "    }\n",
              "</style>\n",
              "<table border=\"1\" class=\"dataframe\">\n",
              "  <thead>\n",
              "    <tr style=\"text-align: right;\">\n",
              "      <th></th>\n",
              "      <th>country</th>\n",
              "      <th>page 1 (main category)</th>\n",
              "      <th>price</th>\n",
              "    </tr>\n",
              "  </thead>\n",
              "  <tbody>\n",
              "    <tr>\n",
              "      <th>0</th>\n",
              "      <td>0.909091</td>\n",
              "      <td>0.000000</td>\n",
              "      <td>0.8</td>\n",
              "    </tr>\n",
              "    <tr>\n",
              "      <th>1</th>\n",
              "      <td>0.272727</td>\n",
              "      <td>0.333333</td>\n",
              "      <td>0.6</td>\n",
              "    </tr>\n",
              "    <tr>\n",
              "      <th>2</th>\n",
              "      <td>0.909091</td>\n",
              "      <td>0.666667</td>\n",
              "      <td>0.0</td>\n",
              "    </tr>\n",
              "    <tr>\n",
              "      <th>3</th>\n",
              "      <td>0.909091</td>\n",
              "      <td>0.333333</td>\n",
              "      <td>0.6</td>\n",
              "    </tr>\n",
              "    <tr>\n",
              "      <th>4</th>\n",
              "      <td>0.909091</td>\n",
              "      <td>0.000000</td>\n",
              "      <td>0.6</td>\n",
              "    </tr>\n",
              "    <tr>\n",
              "      <th>...</th>\n",
              "      <td>...</td>\n",
              "      <td>...</td>\n",
              "      <td>...</td>\n",
              "    </tr>\n",
              "    <tr>\n",
              "      <th>189</th>\n",
              "      <td>0.909091</td>\n",
              "      <td>0.000000</td>\n",
              "      <td>0.6</td>\n",
              "    </tr>\n",
              "    <tr>\n",
              "      <th>190</th>\n",
              "      <td>0.909091</td>\n",
              "      <td>1.000000</td>\n",
              "      <td>0.2</td>\n",
              "    </tr>\n",
              "    <tr>\n",
              "      <th>191</th>\n",
              "      <td>0.909091</td>\n",
              "      <td>0.000000</td>\n",
              "      <td>0.6</td>\n",
              "    </tr>\n",
              "    <tr>\n",
              "      <th>192</th>\n",
              "      <td>0.272727</td>\n",
              "      <td>0.000000</td>\n",
              "      <td>0.2</td>\n",
              "    </tr>\n",
              "    <tr>\n",
              "      <th>193</th>\n",
              "      <td>0.272727</td>\n",
              "      <td>0.333333</td>\n",
              "      <td>0.8</td>\n",
              "    </tr>\n",
              "  </tbody>\n",
              "</table>\n",
              "<p>194 rows × 3 columns</p>\n",
              "</div>"
            ],
            "text/plain": [
              "      country  page 1 (main category)  price\n",
              "0    0.909091                0.000000    0.8\n",
              "1    0.272727                0.333333    0.6\n",
              "2    0.909091                0.666667    0.0\n",
              "3    0.909091                0.333333    0.6\n",
              "4    0.909091                0.000000    0.6\n",
              "..        ...                     ...    ...\n",
              "189  0.909091                0.000000    0.6\n",
              "190  0.909091                1.000000    0.2\n",
              "191  0.909091                0.000000    0.6\n",
              "192  0.272727                0.000000    0.2\n",
              "193  0.272727                0.333333    0.8\n",
              "\n",
              "[194 rows x 3 columns]"
            ]
          },
          "metadata": {},
          "execution_count": 57
        }
      ]
    },
    {
      "cell_type": "markdown",
      "metadata": {
        "id": "_fI7dS4RsCgR"
      },
      "source": [
        "# K-Means"
      ]
    },
    {
      "cell_type": "markdown",
      "metadata": {
        "id": "uyRKEFTlwlO2"
      },
      "source": [
        "Menggunakan library sklearn.cluster import fungsi *KMeans*. Pada grafik elbow di bawah, digunakan nilai 2, 3, dan 4sebagai k untuk parameter *Kmeans*."
      ]
    },
    {
      "cell_type": "code",
      "metadata": {
        "colab": {
          "base_uri": "https://localhost:8080/",
          "height": 312
        },
        "id": "dOJJruecsBtq",
        "outputId": "d3514b02-6675-4e45-fdcb-2bfe5b02ba1a"
      },
      "source": [
        "from sklearn.cluster import KMeans\n",
        "\n",
        "clusters = []\n",
        "for i in range (1,11):\n",
        "    km = KMeans(n_clusters=i).fit(data_cluster_minMax)\n",
        "    clusters.append(km.inertia_)\n",
        "\n",
        "# tampilkan plot\n",
        "fig, ax = plt.subplots(figsize=(8,4))\n",
        "sns.lineplot(x=list(range(1,11)), y=clusters, ax=ax)\n",
        "ax.set_title('Elbow')\n",
        "ax.set_xlabel('Clusters')\n",
        "ax.set_ylabel('Inertia')"
      ],
      "execution_count": 58,
      "outputs": [
        {
          "output_type": "execute_result",
          "data": {
            "text/plain": [
              "Text(0, 0.5, 'Inertia')"
            ]
          },
          "metadata": {},
          "execution_count": 58
        },
        {
          "output_type": "display_data",
          "data": {
            "image/png": "[encoded data removed]",
            "text/plain": [
              "<Figure size 576x288 with 1 Axes>"
            ]
          },
          "metadata": {
            "needs_background": "light"
          }
        }
      ]
    },
    {
      "cell_type": "markdown",
      "metadata": {
        "id": "pp66y34Ixgk5"
      },
      "source": [
        "Menggunakan k = [2, 3, 4] untuk melakukan train model menggunakan algoritma *KMeans*."
      ]
    },
    {
      "cell_type": "code",
      "metadata": {
        "colab": {
          "base_uri": "https://localhost:8080/",
          "height": 419
        },
        "id": "70dspd9AvSCz",
        "outputId": "fa07d15c-8428-40a4-83a2-524c3bc3c1cf"
      },
      "source": [
        "std_cluster = data_cluster_std.copy()\n",
        "minMax_cluster = data_cluster_minMax.copy()\n",
        "## Melatih model\n",
        "# Create Model\n",
        "model_kmeans2 = KMeans(n_clusters=2)\n",
        "model_kmeans3 = KMeans(n_clusters=3)\n",
        "model_kmeans4 = KMeans(n_clusters=4)\n",
        "\n",
        "# Train Model\n",
        "model_kmeans2.fit(data_cluster_minMax)\n",
        "model_kmeans3.fit(data_cluster_minMax)\n",
        "model_kmeans4.fit(data_cluster_minMax)\n",
        "\n",
        "# Menambah Label pada data\n",
        "std_cluster['cluster_kmeans2'] = model_kmeans2.labels_\n",
        "std_cluster['cluster_kmeans3'] = model_kmeans3.labels_\n",
        "std_cluster['cluster_kmeans4'] = model_kmeans4.labels_\n",
        "\n",
        "# std_cluster[atr] = std_scaler.inverse_transform(std_cluster[atr].values)\n",
        "std_cluster"
      ],
      "execution_count": 63,
      "outputs": [
        {
          "output_type": "execute_result",
          "data": {
            "text/html": [
              "<div>\n",
              "<style scoped>\n",
              "    .dataframe tbody tr th:only-of-type {\n",
              "        vertical-align: middle;\n",
              "    }\n",
              "\n",
              "    .dataframe tbody tr th {\n",
              "        vertical-align: top;\n",
              "    }\n",
              "\n",
              "    .dataframe thead th {\n",
              "        text-align: right;\n",
              "    }\n",
              "</style>\n",
              "<table border=\"1\" class=\"dataframe\">\n",
              "  <thead>\n",
              "    <tr style=\"text-align: right;\">\n",
              "      <th></th>\n",
              "      <th>country</th>\n",
              "      <th>page 1 (main category)</th>\n",
              "      <th>price</th>\n",
              "      <th>cluster_kmeans2</th>\n",
              "      <th>cluster_kmeans3</th>\n",
              "      <th>cluster_kmeans4</th>\n",
              "    </tr>\n",
              "  </thead>\n",
              "  <tbody>\n",
              "    <tr>\n",
              "      <th>0</th>\n",
              "      <td>1.120616</td>\n",
              "      <td>-0.720784</td>\n",
              "      <td>0.990701</td>\n",
              "      <td>0</td>\n",
              "      <td>0</td>\n",
              "      <td>1</td>\n",
              "    </tr>\n",
              "    <tr>\n",
              "      <th>1</th>\n",
              "      <td>-0.735233</td>\n",
              "      <td>0.263949</td>\n",
              "      <td>0.239935</td>\n",
              "      <td>0</td>\n",
              "      <td>1</td>\n",
              "      <td>3</td>\n",
              "    </tr>\n",
              "    <tr>\n",
              "      <th>2</th>\n",
              "      <td>1.120616</td>\n",
              "      <td>1.248683</td>\n",
              "      <td>-2.012362</td>\n",
              "      <td>1</td>\n",
              "      <td>2</td>\n",
              "      <td>2</td>\n",
              "    </tr>\n",
              "    <tr>\n",
              "      <th>3</th>\n",
              "      <td>1.120616</td>\n",
              "      <td>0.263949</td>\n",
              "      <td>0.239935</td>\n",
              "      <td>0</td>\n",
              "      <td>0</td>\n",
              "      <td>1</td>\n",
              "    </tr>\n",
              "    <tr>\n",
              "      <th>4</th>\n",
              "      <td>1.120616</td>\n",
              "      <td>-0.720784</td>\n",
              "      <td>0.239935</td>\n",
              "      <td>0</td>\n",
              "      <td>0</td>\n",
              "      <td>1</td>\n",
              "    </tr>\n",
              "    <tr>\n",
              "      <th>...</th>\n",
              "      <td>...</td>\n",
              "      <td>...</td>\n",
              "      <td>...</td>\n",
              "      <td>...</td>\n",
              "      <td>...</td>\n",
              "      <td>...</td>\n",
              "    </tr>\n",
              "    <tr>\n",
              "      <th>189</th>\n",
              "      <td>1.120616</td>\n",
              "      <td>-0.720784</td>\n",
              "      <td>0.239935</td>\n",
              "      <td>0</td>\n",
              "      <td>0</td>\n",
              "      <td>1</td>\n",
              "    </tr>\n",
              "    <tr>\n",
              "      <th>190</th>\n",
              "      <td>1.120616</td>\n",
              "      <td>2.233416</td>\n",
              "      <td>-1.261596</td>\n",
              "      <td>1</td>\n",
              "      <td>2</td>\n",
              "      <td>2</td>\n",
              "    </tr>\n",
              "    <tr>\n",
              "      <th>191</th>\n",
              "      <td>1.120616</td>\n",
              "      <td>-0.720784</td>\n",
              "      <td>0.239935</td>\n",
              "      <td>0</td>\n",
              "      <td>0</td>\n",
              "      <td>1</td>\n",
              "    </tr>\n",
              "    <tr>\n",
              "      <th>192</th>\n",
              "      <td>-0.735233</td>\n",
              "      <td>-0.720784</td>\n",
              "      <td>-1.261596</td>\n",
              "      <td>0</td>\n",
              "      <td>1</td>\n",
              "      <td>3</td>\n",
              "    </tr>\n",
              "    <tr>\n",
              "      <th>193</th>\n",
              "      <td>-0.735233</td>\n",
              "      <td>0.263949</td>\n",
              "      <td>0.990701</td>\n",
              "      <td>0</td>\n",
              "      <td>1</td>\n",
              "      <td>3</td>\n",
              "    </tr>\n",
              "  </tbody>\n",
              "</table>\n",
              "<p>194 rows × 6 columns</p>\n",
              "</div>"
            ],
            "text/plain": [
              "      country  page 1 (main category)  ...  cluster_kmeans3  cluster_kmeans4\n",
              "0    1.120616               -0.720784  ...                0                1\n",
              "1   -0.735233                0.263949  ...                1                3\n",
              "2    1.120616                1.248683  ...                2                2\n",
              "3    1.120616                0.263949  ...                0                1\n",
              "4    1.120616               -0.720784  ...                0                1\n",
              "..        ...                     ...  ...              ...              ...\n",
              "189  1.120616               -0.720784  ...                0                1\n",
              "190  1.120616                2.233416  ...                2                2\n",
              "191  1.120616               -0.720784  ...                0                1\n",
              "192 -0.735233               -0.720784  ...                1                3\n",
              "193 -0.735233                0.263949  ...                1                3\n",
              "\n",
              "[194 rows x 6 columns]"
            ]
          },
          "metadata": {},
          "execution_count": 63
        }
      ]
    },
    {
      "cell_type": "markdown",
      "metadata": {
        "id": "gzFNExsqDOMB"
      },
      "source": [
        "Pada 3 grafik di bawah, klasterisasi menggambarkan negara - negara tertentu yang memiliki kecenderungan membeli produk - produk dari kategori tertentu. Dapat dilihat juga klasterisasi di bawah menggambarkan harga produk untuk masing - masing kategori."
      ]
    },
    {
      "cell_type": "code",
      "metadata": {
        "colab": {
          "base_uri": "https://localhost:8080/",
          "height": 1000
        },
        "id": "ld6h7lwrwqj2",
        "outputId": "541b4d12-1485-4c94-a1be-5912ceda8547"
      },
      "source": [
        "# plt.figure(figsize=(8,4))\n",
        "# sns.scatterplot(std_cluster['country'], std_cluster['page 1 (main category)'], hue=std_cluster['cluster_kmeans2'], palette=sns.color_palette('hls',2))\n",
        "# plt.title(' KMeans 2 cluster')\n",
        "\n",
        "plt.figure(figsize=(10,6))\n",
        "sns.scatterplot(std_cluster['country'], std_cluster['price'], \n",
        "                hue=std_cluster['cluster_kmeans3'], \n",
        "                palette=sns.color_palette('hls',3))\n",
        "plt.title(' KMeans 3 cluster')\n",
        "\n",
        "plt.figure(figsize=(10,6))\n",
        "sns.scatterplot(std_cluster['country'], std_cluster['page 1 (main category)'], \n",
        "                hue=std_cluster['cluster_kmeans3'], \n",
        "                palette=sns.color_palette('hls',3))\n",
        "plt.title(' KMeans 3 cluster')\n",
        "\n",
        "plt.figure(figsize=(10,6))\n",
        "sns.scatterplot(std_cluster['price'], std_cluster['page 1 (main category)'], \n",
        "                hue=std_cluster['cluster_kmeans3'], \n",
        "                palette=sns.color_palette('hls',3))\n",
        "plt.title(' KMeans 3 cluster')\n",
        "\n",
        "# plt.figure(figsize=(8,4))\n",
        "# sns.scatterplot(std_cluster['country'], std_cluster['page 1 (main category)'], hue=std_cluster['cluster_kmeans5'], palette=sns.color_palette('hls',5))\n",
        "# plt.title(' KMeans 5 cluster')\n",
        "\n",
        "plt.show()"
      ],
      "execution_count": 64,
      "outputs": [
        {
          "output_type": "stream",
          "name": "stderr",
          "text": [
            "/usr/local/lib/python3.7/dist-packages/seaborn/_decorators.py:43: FutureWarning: Pass the following variables as keyword args: x, y. From version 0.12, the only valid positional argument will be `data`, and passing other arguments without an explicit keyword will result in an error or misinterpretation.\n",
            "  FutureWarning\n",
            "/usr/local/lib/python3.7/dist-packages/seaborn/_decorators.py:43: FutureWarning: Pass the following variables as keyword args: x, y. From version 0.12, the only valid positional argument will be `data`, and passing other arguments without an explicit keyword will result in an error or misinterpretation.\n",
            "  FutureWarning\n",
            "/usr/local/lib/python3.7/dist-packages/seaborn/_decorators.py:43: FutureWarning: Pass the following variables as keyword args: x, y. From version 0.12, the only valid positional argument will be `data`, and passing other arguments without an explicit keyword will result in an error or misinterpretation.\n",
            "  FutureWarning\n"
          ]
        },
        {
          "output_type": "display_data",
          "data": {
            "image/png": "[encoded data removed]",
            "text/plain": [
              "<Figure size 720x432 with 1 Axes>"
            ]
          },
          "metadata": {
            "needs_background": "light"
          }
        },
        {
          "output_type": "display_data",
          "data": {
            "image/png": "[encoded data removed]",
            "text/plain": [
              "<Figure size 720x432 with 1 Axes>"
            ]
          },
          "metadata": {
            "needs_background": "light"
          }
        },
        {
          "output_type": "display_data",
          "data": {
            "image/png": "[encoded data removed]",
            "text/plain": [
              "<Figure size 720x432 with 1 Axes>"
            ]
          },
          "metadata": {
            "needs_background": "light"
          }
        }
      ]
    },
    {
      "cell_type": "markdown",
      "metadata": {
        "id": "ZVtIyZm6_3aY"
      },
      "source": [
        "# K-Medoids"
      ]
    },
    {
      "cell_type": "code",
      "metadata": {
        "colab": {
          "base_uri": "https://localhost:8080/"
        },
        "id": "1uMJ_AtzAhOd",
        "outputId": "4c300795-02e3-4579-86cd-a7e3c942c993"
      },
      "source": [
        "!pip install scikit-learn-extra"
      ],
      "execution_count": 65,
      "outputs": [
        {
          "output_type": "stream",
          "name": "stdout",
          "text": [
            "Requirement already satisfied: scikit-learn-extra in /usr/local/lib/python3.7/dist-packages (0.2.0)\n",
            "Requirement already satisfied: numpy>=1.13.3 in /usr/local/lib/python3.7/dist-packages (from scikit-learn-extra) (1.19.5)\n",
            "Requirement already satisfied: scikit-learn>=0.23.0 in /usr/local/lib/python3.7/dist-packages (from scikit-learn-extra) (0.24.2)\n",
            "Requirement already satisfied: scipy>=0.19.1 in /usr/local/lib/python3.7/dist-packages (from scikit-learn-extra) (1.4.1)\n",
            "Requirement already satisfied: threadpoolctl>=2.0.0 in /usr/local/lib/python3.7/dist-packages (from scikit-learn>=0.23.0->scikit-learn-extra) (2.2.0)\n",
            "Requirement already satisfied: joblib>=0.11 in /usr/local/lib/python3.7/dist-packages (from scikit-learn>=0.23.0->scikit-learn-extra) (1.0.1)\n"
          ]
        }
      ]
    },
    {
      "cell_type": "code",
      "metadata": {
        "colab": {
          "base_uri": "https://localhost:8080/",
          "height": 473
        },
        "id": "7TE0xF-0D0qo",
        "outputId": "dbc427b6-a5af-4be8-8948-0ff756bf8c22"
      },
      "source": [
        "from sklearn_extra.cluster import KMedoids\n",
        "\n",
        "# shop_df_copy = data_cluster_std.copy()\n",
        "# shop_clust_copy = std_cluster.copy()\n",
        "model_scale_kmedoids3 = KMedoids(n_clusters=3, method='pam', random_state=0).fit(data_cluster_minMax)\n",
        "minMax_cluster['cluster_kmedoids3'] = model_scale_kmedoids3.labels_\n",
        "minMax_cluster"
      ],
      "execution_count": 93,
      "outputs": [
        {
          "output_type": "stream",
          "name": "stderr",
          "text": [
            "/usr/local/lib/python3.7/dist-packages/sklearn_extra/cluster/_k_medoids.py:247: ConvergenceWarning: Maximum number of iteration reached before convergence. Consider increasing max_iter to improve the fit.\n",
            "  ConvergenceWarning,\n"
          ]
        },
        {
          "output_type": "execute_result",
          "data": {
            "text/html": [
              "<div>\n",
              "<style scoped>\n",
              "    .dataframe tbody tr th:only-of-type {\n",
              "        vertical-align: middle;\n",
              "    }\n",
              "\n",
              "    .dataframe tbody tr th {\n",
              "        vertical-align: top;\n",
              "    }\n",
              "\n",
              "    .dataframe thead th {\n",
              "        text-align: right;\n",
              "    }\n",
              "</style>\n",
              "<table border=\"1\" class=\"dataframe\">\n",
              "  <thead>\n",
              "    <tr style=\"text-align: right;\">\n",
              "      <th></th>\n",
              "      <th>country</th>\n",
              "      <th>page 1 (main category)</th>\n",
              "      <th>price</th>\n",
              "      <th>cluster_kmedoids2</th>\n",
              "      <th>cluster_kmedoids3</th>\n",
              "      <th>cluster_dbscan</th>\n",
              "    </tr>\n",
              "  </thead>\n",
              "  <tbody>\n",
              "    <tr>\n",
              "      <th>0</th>\n",
              "      <td>0.909091</td>\n",
              "      <td>0.000000</td>\n",
              "      <td>0.8</td>\n",
              "      <td>0</td>\n",
              "      <td>1</td>\n",
              "      <td>0</td>\n",
              "    </tr>\n",
              "    <tr>\n",
              "      <th>1</th>\n",
              "      <td>0.272727</td>\n",
              "      <td>0.333333</td>\n",
              "      <td>0.6</td>\n",
              "      <td>0</td>\n",
              "      <td>2</td>\n",
              "      <td>2</td>\n",
              "    </tr>\n",
              "    <tr>\n",
              "      <th>2</th>\n",
              "      <td>0.909091</td>\n",
              "      <td>0.666667</td>\n",
              "      <td>0.0</td>\n",
              "      <td>1</td>\n",
              "      <td>0</td>\n",
              "      <td>-1</td>\n",
              "    </tr>\n",
              "    <tr>\n",
              "      <th>3</th>\n",
              "      <td>0.909091</td>\n",
              "      <td>0.333333</td>\n",
              "      <td>0.6</td>\n",
              "      <td>0</td>\n",
              "      <td>1</td>\n",
              "      <td>-1</td>\n",
              "    </tr>\n",
              "    <tr>\n",
              "      <th>4</th>\n",
              "      <td>0.909091</td>\n",
              "      <td>0.000000</td>\n",
              "      <td>0.6</td>\n",
              "      <td>0</td>\n",
              "      <td>1</td>\n",
              "      <td>0</td>\n",
              "    </tr>\n",
              "    <tr>\n",
              "      <th>...</th>\n",
              "      <td>...</td>\n",
              "      <td>...</td>\n",
              "      <td>...</td>\n",
              "      <td>...</td>\n",
              "      <td>...</td>\n",
              "      <td>...</td>\n",
              "    </tr>\n",
              "    <tr>\n",
              "      <th>189</th>\n",
              "      <td>0.909091</td>\n",
              "      <td>0.000000</td>\n",
              "      <td>0.6</td>\n",
              "      <td>0</td>\n",
              "      <td>1</td>\n",
              "      <td>0</td>\n",
              "    </tr>\n",
              "    <tr>\n",
              "      <th>190</th>\n",
              "      <td>0.909091</td>\n",
              "      <td>1.000000</td>\n",
              "      <td>0.2</td>\n",
              "      <td>1</td>\n",
              "      <td>0</td>\n",
              "      <td>-1</td>\n",
              "    </tr>\n",
              "    <tr>\n",
              "      <th>191</th>\n",
              "      <td>0.909091</td>\n",
              "      <td>0.000000</td>\n",
              "      <td>0.6</td>\n",
              "      <td>0</td>\n",
              "      <td>1</td>\n",
              "      <td>0</td>\n",
              "    </tr>\n",
              "    <tr>\n",
              "      <th>192</th>\n",
              "      <td>0.272727</td>\n",
              "      <td>0.000000</td>\n",
              "      <td>0.2</td>\n",
              "      <td>0</td>\n",
              "      <td>2</td>\n",
              "      <td>1</td>\n",
              "    </tr>\n",
              "    <tr>\n",
              "      <th>193</th>\n",
              "      <td>0.272727</td>\n",
              "      <td>0.333333</td>\n",
              "      <td>0.8</td>\n",
              "      <td>0</td>\n",
              "      <td>2</td>\n",
              "      <td>2</td>\n",
              "    </tr>\n",
              "  </tbody>\n",
              "</table>\n",
              "<p>194 rows × 6 columns</p>\n",
              "</div>"
            ],
            "text/plain": [
              "      country  page 1 (main category)  ...  cluster_kmedoids3  cluster_dbscan\n",
              "0    0.909091                0.000000  ...                  1               0\n",
              "1    0.272727                0.333333  ...                  2               2\n",
              "2    0.909091                0.666667  ...                  0              -1\n",
              "3    0.909091                0.333333  ...                  1              -1\n",
              "4    0.909091                0.000000  ...                  1               0\n",
              "..        ...                     ...  ...                ...             ...\n",
              "189  0.909091                0.000000  ...                  1               0\n",
              "190  0.909091                1.000000  ...                  0              -1\n",
              "191  0.909091                0.000000  ...                  1               0\n",
              "192  0.272727                0.000000  ...                  2               1\n",
              "193  0.272727                0.333333  ...                  2               2\n",
              "\n",
              "[194 rows x 6 columns]"
            ]
          },
          "metadata": {},
          "execution_count": 93
        }
      ]
    },
    {
      "cell_type": "code",
      "metadata": {
        "colab": {
          "base_uri": "https://localhost:8080/",
          "height": 1000
        },
        "id": "p7Cz5qhqGrVV",
        "outputId": "e5fdeec9-48f2-483d-80f7-98efbab1a99a"
      },
      "source": [
        "plt.figure(figsize=(10,6))\n",
        "sns.scatterplot(minMax_cluster['country'], minMax_cluster['price'], \n",
        "                hue=minMax_cluster['cluster_kmedoids3'], \n",
        "                palette=sns.color_palette('hls',3))\n",
        "plt.title(' KMeans 3 cluster')\n",
        "\n",
        "plt.figure(figsize=(10,6))\n",
        "sns.scatterplot(minMax_cluster['country'], minMax_cluster['page 1 (main category)'], \n",
        "                hue=minMax_cluster['cluster_kmedoids3'], \n",
        "                palette=sns.color_palette('hls',3))\n",
        "plt.title(' KMeans 3 cluster')\n",
        "\n",
        "plt.figure(figsize=(10,6))\n",
        "sns.scatterplot(minMax_cluster['price'], minMax_cluster['page 1 (main category)'], \n",
        "                hue=minMax_cluster['cluster_kmedoids3'], \n",
        "                palette=sns.color_palette('hls',3))\n",
        "plt.title(' KMeans 3 cluster')"
      ],
      "execution_count": 76,
      "outputs": [
        {
          "output_type": "stream",
          "name": "stderr",
          "text": [
            "/usr/local/lib/python3.7/dist-packages/seaborn/_decorators.py:43: FutureWarning: Pass the following variables as keyword args: x, y. From version 0.12, the only valid positional argument will be `data`, and passing other arguments without an explicit keyword will result in an error or misinterpretation.\n",
            "  FutureWarning\n",
            "/usr/local/lib/python3.7/dist-packages/seaborn/_decorators.py:43: FutureWarning: Pass the following variables as keyword args: x, y. From version 0.12, the only valid positional argument will be `data`, and passing other arguments without an explicit keyword will result in an error or misinterpretation.\n",
            "  FutureWarning\n",
            "/usr/local/lib/python3.7/dist-packages/seaborn/_decorators.py:43: FutureWarning: Pass the following variables as keyword args: x, y. From version 0.12, the only valid positional argument will be `data`, and passing other arguments without an explicit keyword will result in an error or misinterpretation.\n",
            "  FutureWarning\n"
          ]
        },
        {
          "output_type": "execute_result",
          "data": {
            "text/plain": [
              "Text(0.5, 1.0, ' KMeans 3 cluster')"
            ]
          },
          "metadata": {},
          "execution_count": 76
        },
        {
          "output_type": "display_data",
          "data": {
            "image/png": "[encoded data removed]",
            "text/plain": [
              "<Figure size 720x432 with 1 Axes>"
            ]
          },
          "metadata": {
            "needs_background": "light"
          }
        },
        {
          "output_type": "display_data",
          "data": {
            "image/png": "[encoded data removed]",
            "text/plain": [
              "<Figure size 720x432 with 1 Axes>"
            ]
          },
          "metadata": {
            "needs_background": "light"
          }
        },
        {
          "output_type": "display_data",
          "data": {
            "image/png": "[encoded data removed]",
            "text/plain": [
              "<Figure size 720x432 with 1 Axes>"
            ]
          },
          "metadata": {
            "needs_background": "light"
          }
        }
      ]
    },
    {
      "cell_type": "markdown",
      "metadata": {
        "id": "QF8tBGasH6jh"
      },
      "source": [
        "# Single Linkage"
      ]
    },
    {
      "cell_type": "code",
      "metadata": {
        "id": "0PVoW6UFIB2W"
      },
      "source": [
        "from scipy.cluster.hierarchy import linkage\n",
        "from scipy.cluster.hierarchy import dendrogram\n",
        "from scipy.cluster.hierarchy import cut_tree\n",
        "\n"
      ],
      "execution_count": 77,
      "outputs": []
    },
    {
      "cell_type": "code",
      "metadata": {
        "colab": {
          "base_uri": "https://localhost:8080/",
          "height": 281
        },
        "id": "CEi0Zkh-IDbm",
        "outputId": "ee506529-eb8a-44d5-85d7-5e527f84422d"
      },
      "source": [
        "mergings_single = linkage(minMax_cluster, method=\"single\", metric='euclidean')\n",
        "dendrogram(mergings_single)\n",
        "plt.title(\"Single Linkage\")\n",
        "plt.show()"
      ],
      "execution_count": 78,
      "outputs": [
        {
          "output_type": "display_data",
          "data": {
            "image/png": "[encoded data removed]",
            "text/plain": [
              "<Figure size 432x288 with 1 Axes>"
            ]
          },
          "metadata": {
            "needs_background": "light"
          }
        }
      ]
    },
    {
      "cell_type": "markdown",
      "metadata": {
        "id": "wxiFMJpVScGP"
      },
      "source": [
        "# Complete Linkage"
      ]
    },
    {
      "cell_type": "code",
      "metadata": {
        "colab": {
          "base_uri": "https://localhost:8080/",
          "height": 281
        },
        "id": "nSuQTh9ESbtI",
        "outputId": "4a2f4ab7-5485-4b4c-cbae-16af68259958"
      },
      "source": [
        "mergings_complete = linkage(minMax_cluster, method=\"complete\", metric='euclidean')\n",
        "dendrogram(mergings_complete)\n",
        "plt.title(\"Complete Linkage\")\n",
        "plt.show()"
      ],
      "execution_count": 80,
      "outputs": [
        {
          "output_type": "display_data",
          "data": {
            "image/png": "[encoded data removed]",
            "text/plain": [
              "<Figure size 432x288 with 1 Axes>"
            ]
          },
          "metadata": {
            "needs_background": "light"
          }
        }
      ]
    },
    {
      "cell_type": "markdown",
      "metadata": {
        "id": "xclqFIn8Wzcd"
      },
      "source": [
        "# DBSCAN"
      ]
    },
    {
      "cell_type": "code",
      "metadata": {
        "id": "MkbsEXQRaHcC"
      },
      "source": [
        "from sklearn.cluster import DBSCAN\n",
        "from sklearn.neighbors import NearestNeighbors"
      ],
      "execution_count": 81,
      "outputs": []
    },
    {
      "cell_type": "code",
      "metadata": {
        "colab": {
          "base_uri": "https://localhost:8080/",
          "height": 204
        },
        "id": "1G7gf8DHW8-u",
        "outputId": "092e2dd3-5d70-4be3-bd09-948d2a86143b"
      },
      "source": [
        "minMax_cluster.describe()\n",
        "minMax_cluster.head()"
      ],
      "execution_count": 83,
      "outputs": [
        {
          "output_type": "execute_result",
          "data": {
            "text/html": [
              "<div>\n",
              "<style scoped>\n",
              "    .dataframe tbody tr th:only-of-type {\n",
              "        vertical-align: middle;\n",
              "    }\n",
              "\n",
              "    .dataframe tbody tr th {\n",
              "        vertical-align: top;\n",
              "    }\n",
              "\n",
              "    .dataframe thead th {\n",
              "        text-align: right;\n",
              "    }\n",
              "</style>\n",
              "<table border=\"1\" class=\"dataframe\">\n",
              "  <thead>\n",
              "    <tr style=\"text-align: right;\">\n",
              "      <th></th>\n",
              "      <th>country</th>\n",
              "      <th>page 1 (main category)</th>\n",
              "      <th>price</th>\n",
              "      <th>cluster_kmedoids2</th>\n",
              "      <th>cluster_kmedoids3</th>\n",
              "    </tr>\n",
              "  </thead>\n",
              "  <tbody>\n",
              "    <tr>\n",
              "      <th>0</th>\n",
              "      <td>0.909091</td>\n",
              "      <td>0.000000</td>\n",
              "      <td>0.8</td>\n",
              "      <td>0</td>\n",
              "      <td>1</td>\n",
              "    </tr>\n",
              "    <tr>\n",
              "      <th>1</th>\n",
              "      <td>0.272727</td>\n",
              "      <td>0.333333</td>\n",
              "      <td>0.6</td>\n",
              "      <td>0</td>\n",
              "      <td>2</td>\n",
              "    </tr>\n",
              "    <tr>\n",
              "      <th>2</th>\n",
              "      <td>0.909091</td>\n",
              "      <td>0.666667</td>\n",
              "      <td>0.0</td>\n",
              "      <td>1</td>\n",
              "      <td>0</td>\n",
              "    </tr>\n",
              "    <tr>\n",
              "      <th>3</th>\n",
              "      <td>0.909091</td>\n",
              "      <td>0.333333</td>\n",
              "      <td>0.6</td>\n",
              "      <td>0</td>\n",
              "      <td>1</td>\n",
              "    </tr>\n",
              "    <tr>\n",
              "      <th>4</th>\n",
              "      <td>0.909091</td>\n",
              "      <td>0.000000</td>\n",
              "      <td>0.6</td>\n",
              "      <td>0</td>\n",
              "      <td>1</td>\n",
              "    </tr>\n",
              "  </tbody>\n",
              "</table>\n",
              "</div>"
            ],
            "text/plain": [
              "    country  page 1 (main category)  ...  cluster_kmedoids2  cluster_kmedoids3\n",
              "0  0.909091                0.000000  ...                  0                  1\n",
              "1  0.272727                0.333333  ...                  0                  2\n",
              "2  0.909091                0.666667  ...                  1                  0\n",
              "3  0.909091                0.333333  ...                  0                  1\n",
              "4  0.909091                0.000000  ...                  0                  1\n",
              "\n",
              "[5 rows x 5 columns]"
            ]
          },
          "metadata": {},
          "execution_count": 83
        }
      ]
    },
    {
      "cell_type": "code",
      "metadata": {
        "colab": {
          "base_uri": "https://localhost:8080/"
        },
        "id": "eEa1crFGa2em",
        "outputId": "a5bcc907-3933-4c1c-8889-a1dc93c974cb"
      },
      "source": [
        "neighbors = NearestNeighbors(n_neighbors=15)\n",
        "neighbors_fit = neighbors.fit(shop_minMax_scale)\n",
        "distances, indices = neighbors_fit.kneighbors(shop_minMax_scale)\n",
        "distances"
      ],
      "execution_count": 84,
      "outputs": [
        {
          "output_type": "execute_result",
          "data": {
            "text/plain": [
              "array([[0.        , 0.        , 0.        , ..., 0.18181818, 0.2       ,\n",
              "        0.2       ],\n",
              "       [0.        , 0.        , 0.        , ..., 0.2       , 0.2       ,\n",
              "        0.27272727],\n",
              "       [0.        , 0.2       , 0.2       , ..., 0.4       , 0.4       ,\n",
              "        0.4       ],\n",
              "       ...,\n",
              "       [0.        , 0.        , 0.        , ..., 0.09090909, 0.09090909,\n",
              "        0.2       ],\n",
              "       [0.        , 0.        , 0.        , ..., 0.27029216, 0.33820137,\n",
              "        0.33820137],\n",
              "       [0.        , 0.        , 0.        , ..., 0.2       , 0.2       ,\n",
              "        0.2       ]])"
            ]
          },
          "metadata": {},
          "execution_count": 84
        }
      ]
    },
    {
      "cell_type": "code",
      "metadata": {
        "colab": {
          "base_uri": "https://localhost:8080/",
          "height": 282
        },
        "id": "5k-ZNA1SbgIh",
        "outputId": "4a3037bf-1890-49e3-e724-49c20078d119"
      },
      "source": [
        "distances = np.sort(distances, axis=0)\n",
        "distances = distances[:, 1]\n",
        "plt.plot(distances)"
      ],
      "execution_count": 85,
      "outputs": [
        {
          "output_type": "execute_result",
          "data": {
            "text/plain": [
              "[<matplotlib.lines.Line2D at 0x7f453d4b4150>]"
            ]
          },
          "metadata": {},
          "execution_count": 85
        },
        {
          "output_type": "display_data",
          "data": {
            "image/png": "[encoded data removed]",
            "text/plain": [
              "<Figure size 432x288 with 1 Axes>"
            ]
          },
          "metadata": {
            "needs_background": "light"
          }
        }
      ]
    },
    {
      "cell_type": "code",
      "metadata": {
        "colab": {
          "base_uri": "https://localhost:8080/"
        },
        "id": "xidKwdktaBnG",
        "outputId": "2f8f964c-66b8-492c-9003-2ac8ec0016fc"
      },
      "source": [
        "# create an object\n",
        "db = DBSCAN(eps=0.23, min_samples=15, metric='euclidean')\n",
        "\n",
        "# fit the model\n",
        "db.fit(minMax_cluster)"
      ],
      "execution_count": 89,
      "outputs": [
        {
          "output_type": "execute_result",
          "data": {
            "text/plain": [
              "DBSCAN(eps=0.23, min_samples=15)"
            ]
          },
          "metadata": {},
          "execution_count": 89
        }
      ]
    },
    {
      "cell_type": "code",
      "metadata": {
        "colab": {
          "base_uri": "https://localhost:8080/",
          "height": 419
        },
        "id": "3Qvebb5uorxO",
        "outputId": "c4cd3ec9-1a13-4912-d5f6-2de816814a1b"
      },
      "source": [
        "minMax_cluster['cluster_dbscan'] = db.labels_\n",
        "minMax_cluster"
      ],
      "execution_count": 90,
      "outputs": [
        {
          "output_type": "execute_result",
          "data": {
            "text/html": [
              "<div>\n",
              "<style scoped>\n",
              "    .dataframe tbody tr th:only-of-type {\n",
              "        vertical-align: middle;\n",
              "    }\n",
              "\n",
              "    .dataframe tbody tr th {\n",
              "        vertical-align: top;\n",
              "    }\n",
              "\n",
              "    .dataframe thead th {\n",
              "        text-align: right;\n",
              "    }\n",
              "</style>\n",
              "<table border=\"1\" class=\"dataframe\">\n",
              "  <thead>\n",
              "    <tr style=\"text-align: right;\">\n",
              "      <th></th>\n",
              "      <th>country</th>\n",
              "      <th>page 1 (main category)</th>\n",
              "      <th>price</th>\n",
              "      <th>cluster_kmedoids2</th>\n",
              "      <th>cluster_kmedoids3</th>\n",
              "      <th>cluster_dbscan</th>\n",
              "    </tr>\n",
              "  </thead>\n",
              "  <tbody>\n",
              "    <tr>\n",
              "      <th>0</th>\n",
              "      <td>0.909091</td>\n",
              "      <td>0.000000</td>\n",
              "      <td>0.8</td>\n",
              "      <td>0</td>\n",
              "      <td>1</td>\n",
              "      <td>0</td>\n",
              "    </tr>\n",
              "    <tr>\n",
              "      <th>1</th>\n",
              "      <td>0.272727</td>\n",
              "      <td>0.333333</td>\n",
              "      <td>0.6</td>\n",
              "      <td>0</td>\n",
              "      <td>2</td>\n",
              "      <td>2</td>\n",
              "    </tr>\n",
              "    <tr>\n",
              "      <th>2</th>\n",
              "      <td>0.909091</td>\n",
              "      <td>0.666667</td>\n",
              "      <td>0.0</td>\n",
              "      <td>1</td>\n",
              "      <td>0</td>\n",
              "      <td>-1</td>\n",
              "    </tr>\n",
              "    <tr>\n",
              "      <th>3</th>\n",
              "      <td>0.909091</td>\n",
              "      <td>0.333333</td>\n",
              "      <td>0.6</td>\n",
              "      <td>0</td>\n",
              "      <td>1</td>\n",
              "      <td>-1</td>\n",
              "    </tr>\n",
              "    <tr>\n",
              "      <th>4</th>\n",
              "      <td>0.909091</td>\n",
              "      <td>0.000000</td>\n",
              "      <td>0.6</td>\n",
              "      <td>0</td>\n",
              "      <td>1</td>\n",
              "      <td>0</td>\n",
              "    </tr>\n",
              "    <tr>\n",
              "      <th>...</th>\n",
              "      <td>...</td>\n",
              "      <td>...</td>\n",
              "      <td>...</td>\n",
              "      <td>...</td>\n",
              "      <td>...</td>\n",
              "      <td>...</td>\n",
              "    </tr>\n",
              "    <tr>\n",
              "      <th>189</th>\n",
              "      <td>0.909091</td>\n",
              "      <td>0.000000</td>\n",
              "      <td>0.6</td>\n",
              "      <td>0</td>\n",
              "      <td>1</td>\n",
              "      <td>0</td>\n",
              "    </tr>\n",
              "    <tr>\n",
              "      <th>190</th>\n",
              "      <td>0.909091</td>\n",
              "      <td>1.000000</td>\n",
              "      <td>0.2</td>\n",
              "      <td>1</td>\n",
              "      <td>0</td>\n",
              "      <td>-1</td>\n",
              "    </tr>\n",
              "    <tr>\n",
              "      <th>191</th>\n",
              "      <td>0.909091</td>\n",
              "      <td>0.000000</td>\n",
              "      <td>0.6</td>\n",
              "      <td>0</td>\n",
              "      <td>1</td>\n",
              "      <td>0</td>\n",
              "    </tr>\n",
              "    <tr>\n",
              "      <th>192</th>\n",
              "      <td>0.272727</td>\n",
              "      <td>0.000000</td>\n",
              "      <td>0.2</td>\n",
              "      <td>0</td>\n",
              "      <td>2</td>\n",
              "      <td>1</td>\n",
              "    </tr>\n",
              "    <tr>\n",
              "      <th>193</th>\n",
              "      <td>0.272727</td>\n",
              "      <td>0.333333</td>\n",
              "      <td>0.8</td>\n",
              "      <td>0</td>\n",
              "      <td>2</td>\n",
              "      <td>2</td>\n",
              "    </tr>\n",
              "  </tbody>\n",
              "</table>\n",
              "<p>194 rows × 6 columns</p>\n",
              "</div>"
            ],
            "text/plain": [
              "      country  page 1 (main category)  ...  cluster_kmedoids3  cluster_dbscan\n",
              "0    0.909091                0.000000  ...                  1               0\n",
              "1    0.272727                0.333333  ...                  2               2\n",
              "2    0.909091                0.666667  ...                  0              -1\n",
              "3    0.909091                0.333333  ...                  1              -1\n",
              "4    0.909091                0.000000  ...                  1               0\n",
              "..        ...                     ...  ...                ...             ...\n",
              "189  0.909091                0.000000  ...                  1               0\n",
              "190  0.909091                1.000000  ...                  0              -1\n",
              "191  0.909091                0.000000  ...                  1               0\n",
              "192  0.272727                0.000000  ...                  2               1\n",
              "193  0.272727                0.333333  ...                  2               2\n",
              "\n",
              "[194 rows x 6 columns]"
            ]
          },
          "metadata": {},
          "execution_count": 90
        }
      ]
    },
    {
      "cell_type": "code",
      "metadata": {
        "colab": {
          "base_uri": "https://localhost:8080/",
          "height": 1000
        },
        "id": "ZUuSmxJsCDfS",
        "outputId": "51b4f5db-c6b3-4647-db32-40c5d4241b0b"
      },
      "source": [
        "plt.figure(figsize=(10,6))\n",
        "sns.scatterplot(minMax_cluster['country'], minMax_cluster['price'], \n",
        "                hue=minMax_cluster['cluster_dbscan'], \n",
        "                palette=sns.color_palette('hls',4))\n",
        "plt.title(' KMeans 3 cluster')\n",
        "\n",
        "plt.figure(figsize=(10,6))\n",
        "sns.scatterplot(minMax_cluster['country'], minMax_cluster['page 1 (main category)'], \n",
        "                hue=minMax_cluster['cluster_dbscan'], \n",
        "                palette=sns.color_palette('hls',4))\n",
        "plt.title(' KMeans 3 cluster')\n",
        "\n",
        "plt.figure(figsize=(10,6))\n",
        "sns.scatterplot(minMax_cluster['price'], minMax_cluster['page 1 (main category)'], \n",
        "                hue=minMax_cluster['cluster_dbscan'], \n",
        "                palette=sns.color_palette('hls',4))\n",
        "plt.title(' KMeans 3 cluster')"
      ],
      "execution_count": 92,
      "outputs": [
        {
          "output_type": "stream",
          "name": "stderr",
          "text": [
            "/usr/local/lib/python3.7/dist-packages/seaborn/_decorators.py:43: FutureWarning: Pass the following variables as keyword args: x, y. From version 0.12, the only valid positional argument will be `data`, and passing other arguments without an explicit keyword will result in an error or misinterpretation.\n",
            "  FutureWarning\n",
            "/usr/local/lib/python3.7/dist-packages/seaborn/_decorators.py:43: FutureWarning: Pass the following variables as keyword args: x, y. From version 0.12, the only valid positional argument will be `data`, and passing other arguments without an explicit keyword will result in an error or misinterpretation.\n",
            "  FutureWarning\n",
            "/usr/local/lib/python3.7/dist-packages/seaborn/_decorators.py:43: FutureWarning: Pass the following variables as keyword args: x, y. From version 0.12, the only valid positional argument will be `data`, and passing other arguments without an explicit keyword will result in an error or misinterpretation.\n",
            "  FutureWarning\n"
          ]
        },
        {
          "output_type": "execute_result",
          "data": {
            "text/plain": [
              "Text(0.5, 1.0, ' KMeans 3 cluster')"
            ]
          },
          "metadata": {},
          "execution_count": 92
        },
        {
          "output_type": "display_data",
          "data": {
            "image/png": "[encoded data removed]",
            "text/plain": [
              "<Figure size 720x432 with 1 Axes>"
            ]
          },
          "metadata": {
            "needs_background": "light"
          }
        },
        {
          "output_type": "display_data",
          "data": {
            "image/png": "[encoded data removed]",
            "text/plain": [
              "<Figure size 720x432 with 1 Axes>"
            ]
          },
          "metadata": {
            "needs_background": "light"
          }
        },
        {
          "output_type": "display_data",
          "data": {
            "image/png": "[encoded data removed]",
            "text/plain": [
              "<Figure size 720x432 with 1 Axes>"
            ]
          },
          "metadata": {
            "needs_background": "light"
          }
        }
      ]
    },
    {
      "cell_type": "code",
      "metadata": {
        "id": "TkLcEE5FClyt"
      },
      "source": [
        ""
      ],
      "execution_count": null,
      "outputs": []
    }
  ]
}